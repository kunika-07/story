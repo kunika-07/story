{
 "cells": [
  {
   "cell_type": "markdown",
   "id": "a393c83d",
   "metadata": {
    "papermill": {
     "duration": 0.019028,
     "end_time": "2023-09-24T06:02:29.933106",
     "exception": false,
     "start_time": "2023-09-24T06:02:29.914078",
     "status": "completed"
    },
    "tags": []
   },
   "source": [
    "<center>\n",
    "<div style=\"color:white;\n",
    "           display:fill;\n",
    "           border-radius:5px;\n",
    "           background-color:\n",
    "           font-size:200%;\n",
    "           letter-spacing:0.5px\">\n",
    "\n",
    "<h2 style=\"padding: 10px;\n",
    "              color:black;\">WEBSCRAPING USING BEAUTIFUL SOUP\n",
    "\n",
    "    \n",
    "</h2>\n",
    "</div>\n",
    "    \n",
    "</center>\n",
    "\n",
    "\n",
    "\n",
    "![](https://i.imgur.com/6zM7JBq.png)\n",
    "\n",
    "**Web scraping** is a technique used to extract large amounts of data from websites. It is done by writing computer programs that visit web pages, parse the contents of the page, and extract data for further processing. Web scraping is important in data science because it allows businesses to collect data from websites, including news sites, social media, and other online sources, which can be used to analyze trends, measure customer sentiment, and create predictive models. \n",
    "\n",
    "It is also used to populate databases, monitor prices, and collect other types of information that can be used in data science projects. Web scraping is a powerful tool for data science, as it allows businesses to collect and analyze data from different sources quickly and cost-effectively.\n",
    "\n",
    "**What are the several ways of webscraping?**\n",
    "\n",
    "1. **API**: API (Application Programming Interface) is a set of protocols, routines, and tools for building software applications. APIs can be used to access web-based data and services, such as webpages, images, and other content. \n",
    "\n",
    "2. **HTML Parsers**: HTML parsers are programs that parse HTML documents and extract the data from them. They are usually used to access webpages and extract the content from them.\n",
    "\n",
    "3. **Scrapy**: Scrapy is a Python-based web scraping framework that provides a complete toolkit for scraping websites. It can be used to crawl multiple pages, extract data from them, and store it in a structured format.\n",
    "\n",
    "4. **Selenium**: Selenium is an open-source tool for automating web browsers. It can be used to simulate user actions on a web page and extract data from it.\n",
    "\n",
    "5. **Wget/Curl**: Wget and Curl are command-line programs used to download webpages and other web-based resources. They can be used to access and scrape webpages.\n",
    "\n",
    "We will be choosing the HTML Parser method for this notebook."
   ]
  },
  {
   "cell_type": "markdown",
   "id": "5343a214",
   "metadata": {
    "papermill": {
     "duration": 0.016341,
     "end_time": "2023-09-24T06:02:29.966068",
     "exception": false,
     "start_time": "2023-09-24T06:02:29.949727",
     "status": "completed"
    },
    "tags": []
   },
   "source": [
    "**Request to the viewer/ reader**\n",
    "\n",
    "<div class=\"alert alert-block alert-info\">\n",
    "<p align=\"center\"> <font color='black'>If you enjoyed my work and the effort, I would really appreciate it if you could show your support by upvoting the notebook. It would give the motivation I need to keep coming up with the helpful stuff for others. Thank you!</font></p>\n",
    "</div>\n",
    "\n",
    "\n",
    "<center> Let's begin! </center>"
   ]
  },
  {
   "cell_type": "markdown",
   "id": "e5742819",
   "metadata": {
    "papermill": {
     "duration": 0.017597,
     "end_time": "2023-09-24T06:02:29.999464",
     "exception": false,
     "start_time": "2023-09-24T06:02:29.981867",
     "status": "completed"
    },
    "tags": []
   },
   "source": [
    "<center>\n",
    "<div style=\"color:white;\n",
    "           display:fill;\n",
    "           border-radius:5px;\n",
    "           background-color: royalblue;\n",
    "           font-size:110%;\n",
    "           letter-spacing:0.5px\">\n",
    "\n",
    "<h2 style=\"padding: 10px;\n",
    "              color:white;\">Importing Libraries\n",
    "\n",
    "    \n",
    "</h2>\n",
    "</div>\n",
    "    \n",
    "</center>"
   ]
  },
  {
   "cell_type": "code",
   "execution_count": 2,
   "id": "9604bdff",
   "metadata": {
    "execution": {
     "iopub.execute_input": "2023-09-24T06:02:30.036554Z",
     "iopub.status.busy": "2023-09-24T06:02:30.035771Z",
     "iopub.status.idle": "2023-09-24T06:02:31.476129Z",
     "shell.execute_reply": "2023-09-24T06:02:31.474880Z"
    },
    "papermill": {
     "duration": 1.463008,
     "end_time": "2023-09-24T06:02:31.479680",
     "exception": false,
     "start_time": "2023-09-24T06:02:30.016672",
     "status": "completed"
    },
    "tags": []
   },
   "outputs": [],
   "source": [
    "import warnings\n",
    "warnings.filterwarnings(\"ignore\")\n",
    "from bs4 import BeautifulSoup\n",
    "import requests\n",
    "import re\n",
    "import numpy as np\n",
    "import pandas as pd\n",
    "import matplotlib.pyplot as plt\n",
    "import seaborn as sns\n",
    "%matplotlib inline\n",
    "plt.rcParams['font.size'] = 12"
   ]
  },
  {
   "cell_type": "markdown",
   "id": "fc4319ea",
   "metadata": {
    "papermill": {
     "duration": 0.015387,
     "end_time": "2023-09-24T06:02:31.510950",
     "exception": false,
     "start_time": "2023-09-24T06:02:31.495563",
     "status": "completed"
    },
    "tags": []
   },
   "source": [
    "<center>\n",
    "<div style=\"color:white;\n",
    "           display:fill;\n",
    "           border-radius:5px;\n",
    "           background-color: royalblue;\n",
    "           font-size:110%;\n",
    "           letter-spacing:0.5px\">\n",
    "\n",
    "<h2 style=\"padding: 10px;\n",
    "              color:white;\">Making a request to the website\n",
    "\n",
    "    \n",
    "</h2>\n",
    "</div>\n",
    "    \n",
    "</center>"
   ]
  },
  {
   "cell_type": "code",
   "execution_count": 3,
   "id": "f16ae5c0",
   "metadata": {
    "execution": {
     "iopub.execute_input": "2023-09-24T06:02:31.546393Z",
     "iopub.status.busy": "2023-09-24T06:02:31.545947Z",
     "iopub.status.idle": "2023-09-24T06:02:32.163054Z",
     "shell.execute_reply": "2023-09-24T06:02:32.161494Z"
    },
    "papermill": {
     "duration": 0.639875,
     "end_time": "2023-09-24T06:02:32.166863",
     "exception": false,
     "start_time": "2023-09-24T06:02:31.526988",
     "status": "completed"
    },
    "tags": []
   },
   "outputs": [
    {
     "name": "stdout",
     "output_type": "stream",
     "text": [
      "The response that we got back from the URL is 200\n"
     ]
    }
   ],
   "source": [
    "url = 'https://www.shine.com/job-search/jobs?job_type=2&top_companies_boost=true&sort=1'\n",
    "response = requests.get(url)\n",
    "print('The response that we got back from the URL is', response.status_code)"
   ]
  },
  {
   "cell_type": "markdown",
   "id": "aa018088",
   "metadata": {
    "papermill": {
     "duration": 0.016839,
     "end_time": "2023-09-24T06:02:32.199892",
     "exception": false,
     "start_time": "2023-09-24T06:02:32.183053",
     "status": "completed"
    },
    "tags": []
   },
   "source": [
    "Since we are getting 200 as response object, we are ready to proceed ahead. \n",
    "\n",
    "\n",
    "<div class=\"alert alert-block alert-info\">\n",
    "<p align=\"center\">A Response 200 is an HTTP status code that signifies a successful request. This code is returned when a web browser or client successfully receives the requested web page from a server. It indicates that the server has processed the request without errors and has provided the requested content, typically in the form of a web page, document, or data. </p>\n",
    "</div>\n",
    "\n",
    "**BEAUTIFULSOUP**\n",
    "\n",
    "For Scraping we will be using a Python Library called BeautifulSoup. Beautiful Soup is a Python library used for parsing HTML and XML documents. It creates a parse tree for parsed pages that can be used to extract data from HTML, which is useful for web scraping. Beautiful Soup provides a few simple methods and Pythonic idioms for navigating, searching, and modifying a parse tree: a toolkit for dissecting a document and extracting what you need. It doesn't take much code to write an application \n",
    "\n",
    "- Beautiful Soup automatically converts incoming documents to Unicode and outgoing documents to UTF-8. You don't have to think about encodings, unless the document doesn't specify an encoding and Beautiful Soup can't detect one. Then you just have to specify the original encoding.\n",
    "\n",
    "- Beautiful Soup sits on top of popular Python parsers like lxml and html5lib, allowing you to try out different parsing strategies or trade speed for flexibility.\n",
    "\n",
    "- Beautiful Soup parses anything you give it and does the tree traversal stuff for you. You can tell it \"Find all the links\", or \"Find all the links of class externalLink\", or \"Find all the links whose urls match \"foo.com\", or \"Find the table heading that's got bold text, then give me that text.\""
   ]
  },
  {
   "cell_type": "markdown",
   "id": "109c3feb",
   "metadata": {
    "papermill": {
     "duration": 0.015791,
     "end_time": "2023-09-24T06:02:32.232746",
     "exception": false,
     "start_time": "2023-09-24T06:02:32.216955",
     "status": "completed"
    },
    "tags": []
   },
   "source": [
    "<center>\n",
    "<div style=\"color:white;\n",
    "           display:fill;\n",
    "           border-radius:5px;\n",
    "           background-color: royalblue;\n",
    "           font-size:110%;\n",
    "           letter-spacing:0.5px\">\n",
    "\n",
    "<h2 style=\"padding: 10px;\n",
    "              color:white;\">Parsing HTML\n",
    "\n",
    "    \n",
    "</h2>\n",
    "</div>\n",
    "    \n",
    "</center>"
   ]
  },
  {
   "cell_type": "code",
   "execution_count": 4,
   "id": "7ce16f22",
   "metadata": {
    "execution": {
     "iopub.execute_input": "2023-09-24T06:02:32.268377Z",
     "iopub.status.busy": "2023-09-24T06:02:32.267861Z",
     "iopub.status.idle": "2023-09-24T06:02:32.351905Z",
     "shell.execute_reply": "2023-09-24T06:02:32.350348Z"
    },
    "papermill": {
     "duration": 0.105876,
     "end_time": "2023-09-24T06:02:32.354968",
     "exception": false,
     "start_time": "2023-09-24T06:02:32.249092",
     "status": "completed"
    },
    "tags": []
   },
   "outputs": [],
   "source": [
    "soup = BeautifulSoup(response.text,'html.parser')\n",
    "html = soup.find_all('div')"
   ]
  },
  {
   "cell_type": "markdown",
   "id": "e26a5f39",
   "metadata": {
    "papermill": {
     "duration": 0.014998,
     "end_time": "2023-09-24T06:02:32.385511",
     "exception": false,
     "start_time": "2023-09-24T06:02:32.370513",
     "status": "completed"
    },
    "tags": []
   },
   "source": [
    "The HTML contains the contents of the website in the HTML format."
   ]
  },
  {
   "cell_type": "markdown",
   "id": "5cc691f3",
   "metadata": {
    "papermill": {
     "duration": 0.015199,
     "end_time": "2023-09-24T06:02:32.415933",
     "exception": false,
     "start_time": "2023-09-24T06:02:32.400734",
     "status": "completed"
    },
    "tags": []
   },
   "source": [
    "<center>\n",
    "<div style=\"color:white;\n",
    "           display:fill;\n",
    "           border-radius:5px;\n",
    "           background-color: royalblue;\n",
    "           font-size:110%;\n",
    "           letter-spacing:0.5px\">\n",
    "\n",
    "<h2 style=\"padding: 10px;\n",
    "              color:white;\">Fetching Job Titles\n",
    "\n",
    "    \n",
    "</h2>\n",
    "</div>\n",
    "    \n",
    "</center>"
   ]
  },
  {
   "cell_type": "markdown",
   "id": "71972835",
   "metadata": {
    "papermill": {
     "duration": 0.014881,
     "end_time": "2023-09-24T06:02:32.445974",
     "exception": false,
     "start_time": "2023-09-24T06:02:32.431093",
     "status": "completed"
    },
    "tags": []
   },
   "source": [
    "The select method allows a user to query a page using a CSS selector to find elements matching the selector. This can be used to find specific tags, classes, or ids in the page's HTML. Remember to not use `.text` method on a list as it will result in an error."
   ]
  },
  {
   "cell_type": "code",
   "execution_count": 22,
   "id": "27c2a0ce",
   "metadata": {},
   "outputs": [
    {
     "name": "stdout",
     "output_type": "stream",
     "text": [
      "['Customer Service Representative', 'Customer Service Executive', 'Business Development  Excutive', 'Voice Process Executive', 'Production Manager', 'Opening for HR Recruiter', 'Hiring For Sr Relationship Manager', 'Relationship Officer', 'Relationship Manager', 'Relationship Manager', 'Relationship Manager-Corporate Salary', 'Content Writer ( English) Full Time- Noida- Walk-In', 'Telecaller', 'Walk-In Interview Relationship Manager - Bokaro Steel C ...', 'Walk-In Interview Acquisition Manager (AAM/PAM) - Bokar ...', 'Customer Service Executive', 'Telecaller', 'International Non Voice Process - Diversity Focused', 'Medical Transcriptionist (Immediate Joiners)', 'Voice Process ( Domestic)']\n"
     ]
    }
   ],
   "source": [
    "titles = [a.get_text(strip=True) for a in soup.select('strong.jobCard_pReplaceH2__xWmHg h2 a')]\n",
    "print(titles)"
   ]
  },
  {
   "cell_type": "markdown",
   "id": "af83d074",
   "metadata": {
    "papermill": {
     "duration": 0.017194,
     "end_time": "2023-09-24T06:02:32.543435",
     "exception": false,
     "start_time": "2023-09-24T06:02:32.526241",
     "status": "completed"
    },
    "tags": []
   },
   "source": [
    "<center>\n",
    "<div style=\"color:white;\n",
    "           display:fill;\n",
    "           border-radius:5px;\n",
    "           background-color: royalblue;\n",
    "           font-size:110%;\n",
    "           letter-spacing:0.5px\">\n",
    "\n",
    "<h2 style=\"padding: 10px;\n",
    "              color:white;\">Fetching Employer Name\n",
    "\n",
    "    \n",
    "</h2>\n",
    "</div>\n",
    "    \n",
    "</center>"
   ]
  },
  {
   "cell_type": "markdown",
   "id": "7dcee20b",
   "metadata": {
    "papermill": {
     "duration": 0.015038,
     "end_time": "2023-09-24T06:02:32.573959",
     "exception": false,
     "start_time": "2023-09-24T06:02:32.558921",
     "status": "completed"
    },
    "tags": []
   },
   "source": [
    "FIND ALL\n",
    "- The `find_all()` method in `BeautifulSoup` searches through a parsed document and returns a collection of all tags that match the criteria specified in the function’s arguments. \n",
    "- It searches through the entire tree of parsed code and returns a list of tags that match the given criteria. \n",
    "- It is an efficient way to search for specific tags and their contents in a parsed document."
   ]
  },
  {
   "cell_type": "code",
   "execution_count": 23,
   "id": "6a7f80ee",
   "metadata": {
    "execution": {
     "iopub.execute_input": "2023-09-24T06:02:32.607597Z",
     "iopub.status.busy": "2023-09-24T06:02:32.606638Z",
     "iopub.status.idle": "2023-09-24T06:02:32.626829Z",
     "shell.execute_reply": "2023-09-24T06:02:32.625500Z"
    },
    "papermill": {
     "duration": 0.040359,
     "end_time": "2023-09-24T06:02:32.629704",
     "exception": false,
     "start_time": "2023-09-24T06:02:32.589345",
     "status": "completed"
    },
    "tags": []
   },
   "outputs": [],
   "source": [
    "firm_names = [span.get_text(strip=True) for span in soup.select('div.jobCard_jobCard_cName__mYnow span')]"
   ]
  },
  {
   "cell_type": "code",
   "execution_count": 24,
   "id": "ddb97400",
   "metadata": {
    "execution": {
     "iopub.execute_input": "2023-09-24T06:02:32.663728Z",
     "iopub.status.busy": "2023-09-24T06:02:32.662299Z",
     "iopub.status.idle": "2023-09-24T06:02:32.671748Z",
     "shell.execute_reply": "2023-09-24T06:02:32.670253Z"
    },
    "papermill": {
     "duration": 0.029055,
     "end_time": "2023-09-24T06:02:32.674330",
     "exception": false,
     "start_time": "2023-09-24T06:02:32.645275",
     "status": "completed"
    },
    "tags": []
   },
   "outputs": [
    {
     "data": {
      "text/plain": [
       "['FAST AND DIRECT SERVICES',\n",
       " 'CONSULTBAE INDIA PRIVATE LIMITED',\n",
       " 'DIGI ENTER.',\n",
       " 'TAGINDIA CONSULTANCY SERVICES PRIVA...',\n",
       " 'ARYA GOLD']"
      ]
     },
     "execution_count": 24,
     "metadata": {},
     "output_type": "execute_result"
    }
   ],
   "source": [
    "firm_names[:5]"
   ]
  },
  {
   "cell_type": "markdown",
   "id": "c311cbd9",
   "metadata": {
    "papermill": {
     "duration": 0.015532,
     "end_time": "2023-09-24T06:02:32.705454",
     "exception": false,
     "start_time": "2023-09-24T06:02:32.689922",
     "status": "completed"
    },
    "tags": []
   },
   "source": [
    "<center>\n",
    "<div style=\"color:white;\n",
    "           display:fill;\n",
    "           border-radius:5px;\n",
    "           background-color: royalblue;\n",
    "           font-size:110%;\n",
    "           letter-spacing:0.5px\">\n",
    "\n",
    "<h2 style=\"padding: 10px;\n",
    "              color:white;\"> Fetching Job Locations\n",
    "\n",
    "    \n",
    "</h2>\n",
    "</div>\n",
    "    \n",
    "</center>"
   ]
  },
  {
   "cell_type": "code",
   "execution_count": 25,
   "id": "87a1c0ef",
   "metadata": {
    "execution": {
     "iopub.execute_input": "2023-09-24T06:02:32.738594Z",
     "iopub.status.busy": "2023-09-24T06:02:32.738050Z",
     "iopub.status.idle": "2023-09-24T06:02:32.759682Z",
     "shell.execute_reply": "2023-09-24T06:02:32.758192Z"
    },
    "papermill": {
     "duration": 0.041897,
     "end_time": "2023-09-24T06:02:32.762875",
     "exception": false,
     "start_time": "2023-09-24T06:02:32.720978",
     "status": "completed"
    },
    "tags": []
   },
   "outputs": [],
   "source": [
    "locations = [div.get_text(strip=True) for div in soup.select('div.jobCard_jobCard_lists_item__YxRkV.jobCard_locationIcon__zrWt2')]"
   ]
  },
  {
   "cell_type": "code",
   "execution_count": 26,
   "id": "351a81ec",
   "metadata": {
    "execution": {
     "iopub.execute_input": "2023-09-24T06:02:32.798021Z",
     "iopub.status.busy": "2023-09-24T06:02:32.796657Z",
     "iopub.status.idle": "2023-09-24T06:02:32.804507Z",
     "shell.execute_reply": "2023-09-24T06:02:32.802980Z"
    },
    "papermill": {
     "duration": 0.028772,
     "end_time": "2023-09-24T06:02:32.807143",
     "exception": false,
     "start_time": "2023-09-24T06:02:32.778371",
     "status": "completed"
    },
    "tags": []
   },
   "outputs": [
    {
     "data": {
      "text/plain": [
       "['Mumbai City', 'Bangalore', 'Delhi', 'Bangalore', 'Mumbai City']"
      ]
     },
     "execution_count": 26,
     "metadata": {},
     "output_type": "execute_result"
    }
   ],
   "source": [
    "locations[:5]"
   ]
  },
  {
   "cell_type": "markdown",
   "id": "32031b63",
   "metadata": {
    "papermill": {
     "duration": 0.016022,
     "end_time": "2023-09-24T06:02:32.840088",
     "exception": false,
     "start_time": "2023-09-24T06:02:32.824066",
     "status": "completed"
    },
    "tags": []
   },
   "source": [
    "<center>\n",
    "<div style=\"color:white;\n",
    "           display:fill;\n",
    "           border-radius:5px;\n",
    "           background-color: royalblue;\n",
    "           font-size:110%;\n",
    "           letter-spacing:0.5px\">\n",
    "\n",
    "<h2 style=\"padding: 10px;\n",
    "              color:white;\"> Fetching Experience\n",
    "\n",
    "    \n",
    "</h2>\n",
    "</div>\n",
    "    \n",
    "</center>"
   ]
  },
  {
   "cell_type": "markdown",
   "id": "31dfbd2b",
   "metadata": {
    "papermill": {
     "duration": 0.015728,
     "end_time": "2023-09-24T06:02:32.872130",
     "exception": false,
     "start_time": "2023-09-24T06:02:32.856402",
     "status": "completed"
    },
    "tags": []
   },
   "source": [
    "We will use `re` which is a library meant for regular expressions. I have a whole notebook where I go in detail and provide various examples of extracting data from text using some patterns. Click [here](https://www.kaggle.com/code/bhatnagardaksh/introduction-to-regular-expressions) if you want to check it out."
   ]
  },
  {
   "cell_type": "code",
   "execution_count": 27,
   "id": "f86b6b29",
   "metadata": {
    "execution": {
     "iopub.execute_input": "2023-09-24T06:02:32.906972Z",
     "iopub.status.busy": "2023-09-24T06:02:32.906046Z",
     "iopub.status.idle": "2023-09-24T06:02:32.912208Z",
     "shell.execute_reply": "2023-09-24T06:02:32.911023Z"
    },
    "papermill": {
     "duration": 0.027143,
     "end_time": "2023-09-24T06:02:32.915587",
     "exception": false,
     "start_time": "2023-09-24T06:02:32.888444",
     "status": "completed"
    },
    "tags": []
   },
   "outputs": [],
   "source": [
    "experience = [div.get_text(strip=True) for div in soup.select('div.jobCard_jobCard_lists_item__YxRkV.jobCard_jobIcon__3FB1t')]\n"
   ]
  },
  {
   "cell_type": "code",
   "execution_count": 28,
   "id": "d0e206ea",
   "metadata": {
    "execution": {
     "iopub.execute_input": "2023-09-24T06:02:32.951316Z",
     "iopub.status.busy": "2023-09-24T06:02:32.950265Z",
     "iopub.status.idle": "2023-09-24T06:02:32.957033Z",
     "shell.execute_reply": "2023-09-24T06:02:32.956080Z"
    },
    "papermill": {
     "duration": 0.027153,
     "end_time": "2023-09-24T06:02:32.959686",
     "exception": false,
     "start_time": "2023-09-24T06:02:32.932533",
     "status": "completed"
    },
    "tags": []
   },
   "outputs": [
    {
     "data": {
      "text/plain": [
       "['0 to 3 Yrs', '1 to 5 Yrs', '1 to 2 Yrs', '0 to 1 Yr', '2 to 5 Yrs']"
      ]
     },
     "execution_count": 28,
     "metadata": {},
     "output_type": "execute_result"
    }
   ],
   "source": [
    "experience[:5]"
   ]
  },
  {
   "cell_type": "markdown",
   "id": "641f19a6",
   "metadata": {
    "papermill": {
     "duration": 0.015987,
     "end_time": "2023-09-24T06:02:32.992352",
     "exception": false,
     "start_time": "2023-09-24T06:02:32.976365",
     "status": "completed"
    },
    "tags": []
   },
   "source": [
    "<center>\n",
    "<div style=\"color:white;\n",
    "           display:fill;\n",
    "           border-radius:5px;\n",
    "           background-color: royalblue;\n",
    "           font-size:110%;\n",
    "           letter-spacing:0.5px\">\n",
    "\n",
    "<h2 style=\"padding: 10px;\n",
    "              color:white;\"> Fetching Number of Positions\n",
    "\n",
    "    \n",
    "</h2>\n",
    "</div>\n",
    "    \n",
    "</center>"
   ]
  },
  {
   "cell_type": "code",
   "execution_count": 48,
   "id": "b91bc187",
   "metadata": {
    "execution": {
     "iopub.execute_input": "2023-09-24T06:02:33.029671Z",
     "iopub.status.busy": "2023-09-24T06:02:33.028947Z",
     "iopub.status.idle": "2023-09-24T06:02:33.040354Z",
     "shell.execute_reply": "2023-09-24T06:02:33.039461Z"
    },
    "papermill": {
     "duration": 0.03385,
     "end_time": "2023-09-24T06:02:33.043413",
     "exception": false,
     "start_time": "2023-09-24T06:02:33.009563",
     "status": "completed"
    },
    "tags": []
   },
   "outputs": [],
   "source": [
    "positions = [li.get_text(strip=True).replace(' Positions', '') for li in soup.select('div.jobCard_jobCard_lists_item__YxRkV.jobCard_positionIcon__2hhkm li')]"
   ]
  },
  {
   "cell_type": "code",
   "execution_count": 49,
   "id": "b6da605f",
   "metadata": {
    "execution": {
     "iopub.execute_input": "2023-09-24T06:02:33.079736Z",
     "iopub.status.busy": "2023-09-24T06:02:33.079047Z",
     "iopub.status.idle": "2023-09-24T06:02:33.085267Z",
     "shell.execute_reply": "2023-09-24T06:02:33.083950Z"
    },
    "papermill": {
     "duration": 0.027819,
     "end_time": "2023-09-24T06:02:33.088713",
     "exception": false,
     "start_time": "2023-09-24T06:02:33.060894",
     "status": "completed"
    },
    "tags": []
   },
   "outputs": [],
   "source": [
    "#Cleaning up the data\n",
    "positions = [int(re.findall(r'\\d+', text)[0]) if re.findall(r'\\d+', text) else 1 for text in positions]"
   ]
  },
  {
   "cell_type": "markdown",
   "id": "e2455d16",
   "metadata": {
    "papermill": {
     "duration": 0.015977,
     "end_time": "2023-09-24T06:02:33.121139",
     "exception": false,
     "start_time": "2023-09-24T06:02:33.105162",
     "status": "completed"
    },
    "tags": []
   },
   "source": [
    "The above code cell might look like there is a lot going on and while that's true, let me break it down.\n",
    "\n",
    "---\n",
    "This fetches each element in the list\n",
    "```Python\n",
    "for text in vac\n",
    "```\n",
    "We then do the regex magic and get the first element and convert that number to an integer\n",
    "```Python\n",
    "int(re.findall(r'\\d+', text)[0])\n",
    "```\n",
    "This part check if the element at an index is blank. If yes,then the value will default to 1\n",
    "```Python\n",
    "if re.findall(r'\\d+', text) else 1 \n",
    "```\n",
    "---\n",
    "We are using a list comprehension which is a better and faster way to loop things over."
   ]
  },
  {
   "cell_type": "code",
   "execution_count": 38,
   "id": "b32dde44",
   "metadata": {
    "execution": {
     "iopub.execute_input": "2023-09-24T06:02:33.156244Z",
     "iopub.status.busy": "2023-09-24T06:02:33.155390Z",
     "iopub.status.idle": "2023-09-24T06:02:33.163441Z",
     "shell.execute_reply": "2023-09-24T06:02:33.162268Z"
    },
    "papermill": {
     "duration": 0.028574,
     "end_time": "2023-09-24T06:02:33.166156",
     "exception": false,
     "start_time": "2023-09-24T06:02:33.137582",
     "status": "completed"
    },
    "tags": []
   },
   "outputs": [
    {
     "data": {
      "text/plain": [
       "[20, 5, 30, 99, 4]"
      ]
     },
     "execution_count": 38,
     "metadata": {},
     "output_type": "execute_result"
    }
   ],
   "source": [
    "positions[:5]"
   ]
  },
  {
   "cell_type": "markdown",
   "id": "b48ce145",
   "metadata": {
    "papermill": {
     "duration": 0.016066,
     "end_time": "2023-09-24T06:02:33.198795",
     "exception": false,
     "start_time": "2023-09-24T06:02:33.182729",
     "status": "completed"
    },
    "tags": []
   },
   "source": [
    "<center>\n",
    "<div style=\"color:white;\n",
    "           display:fill;\n",
    "           border-radius:5px;\n",
    "           background-color: royalblue;\n",
    "           font-size:110%;\n",
    "           letter-spacing:0.5px\">\n",
    "\n",
    "<h2 style=\"padding: 10px;\n",
    "              color:white;\"> Putting the pieces together\n",
    "\n",
    "    \n",
    "</h2>\n",
    "</div>\n",
    "    \n",
    "</center>"
   ]
  },
  {
   "cell_type": "code",
   "execution_count": 50,
   "id": "e1ce5619",
   "metadata": {},
   "outputs": [],
   "source": [
    "min_length = min(len(titles), len(firm_names), len(locations), len(experience), len(positions))\n",
    "max_length = max(len(titles), len(firm_names), len(locations), len(experience), len(positions))\n",
    "\n",
    "# Function to extend the list to match the max length\n",
    "def extend_list(lst, target_length, fill_value='N/A'):\n",
    "    return lst + [fill_value] * (target_length - len(lst))\n",
    "\n",
    "# Extending all lists to the max length\n",
    "titles = extend_list(titles, max_length)\n",
    "firm_names = extend_list(firm_names, max_length)\n",
    "locations = extend_list(locations, max_length)\n",
    "experience = extend_list(experience, max_length)\n",
    "positions = extend_list(positions, max_length)"
   ]
  },
  {
   "cell_type": "code",
   "execution_count": 58,
   "id": "def0ef5a",
   "metadata": {},
   "outputs": [
    {
     "name": "stdout",
     "output_type": "stream",
     "text": [
      "                                                     Titles                              Firm Name    Job Location Experience  Positions\n",
      "                            Customer Service Representative               FAST AND DIRECT SERVICES     Mumbai City 0 to 3 Yrs         20\n",
      "                                 Customer Service Executive       CONSULTBAE INDIA PRIVATE LIMITED       Bangalore 1 to 5 Yrs          5\n",
      "                             Business Development  Excutive                            DIGI ENTER.           Delhi 1 to 2 Yrs         30\n",
      "                                    Voice Process Executive TAGINDIA CONSULTANCY SERVICES PRIVA...       Bangalore  0 to 1 Yr         99\n",
      "                                         Production Manager                              ARYA GOLD     Mumbai City 2 to 5 Yrs          4\n",
      "                                   Opening for HR Recruiter         Stalwart Management Consulting     Mumbai City 1 to 6 Yrs         10\n",
      "                         Hiring For Sr Relationship Manager RELIANCE NIPPON LIFE INSURANCE COMP...          Indore 1 to 6 Yrs         99\n",
      "                                       Relationship Officer            Kotak Mahindra Bank Limited Gurugram+1Delhi 4 to 6 Yrs         20\n",
      "                                       Relationship Manager            Kotak Mahindra Bank Limited           Delhi 4 to 6 Yrs         20\n",
      "                                       Relationship Manager            Kotak Mahindra Bank Limited           Delhi 4 to 6 Yrs         20\n",
      "                      Relationship Manager-Corporate Salary            Kotak Mahindra Bank Limited     Mumbai City 1 to 6 Yrs         21\n",
      "        Content Writer ( English) Full Time- Noida- Walk-In                              Anolytics           Noida 0 to 3 Yrs         10\n",
      "                                                 Telecaller SHRADHA LALITCHANDRA DAUND Hiring F...          Panvel 1 to 6 Yrs         10\n",
      "Walk-In Interview Relationship Manager - Bokaro Steel C ...            Kotak Mahindra Bank Limited          Bokaro 1 to 6 Yrs         25\n",
      "Walk-In Interview Acquisition Manager (AAM/PAM) - Bokar ...            Kotak Mahindra Bank Limited          Bokaro 0 to 4 Yrs         99\n",
      "                                 Customer Service Executive     Square Business Services Pvt. Ltd.       Hyderabad  0 to 1 Yr         50\n",
      "                                                 Telecaller visionary outsourcing services Hiri...       All India 0 to 3 Yrs         50\n",
      "        International Non Voice Process - Diversity Focused                             Intouch CX       Hyderabad 0 to 2 Yrs         99\n",
      "               Medical Transcriptionist (Immediate Joiners)                             Intouch CX       All India 2 to 4 Yrs         50\n",
      "                                  Voice Process ( Domestic)             M.A.R.S Business Solutions Hyderabad+1Pune 0 to 3 Yrs          0\n"
     ]
    }
   ],
   "source": [
    "# Creating the DataFrame\n",
    "data = {\n",
    "    'Titles': titles,\n",
    "    'Firm Name': firm_names,\n",
    "    'Job Location': locations,\n",
    "    'Experience': experience,\n",
    "    'Positions': positions\n",
    "}\n",
    "\n",
    "df = pd.DataFrame(data)\n",
    "\n",
    "df['Positions'] = pd.to_numeric(df['Positions'], errors='coerce')\n",
    "\n",
    "# Fill NaN values with 0 or another appropriate value\n",
    "df['Positions'].fillna(0, inplace=True)\n",
    "\n",
    "# Convert Positions column to integers\n",
    "df['Positions'] = df['Positions'].astype(int)\n",
    "\n",
    "# Display the DataFrame\n",
    "print(df.to_string(index=False))"
   ]
  },
  {
   "cell_type": "code",
   "execution_count": 59,
   "id": "ee8c39d2",
   "metadata": {
    "execution": {
     "iopub.execute_input": "2023-09-24T06:02:33.284139Z",
     "iopub.status.busy": "2023-09-24T06:02:33.283662Z",
     "iopub.status.idle": "2023-09-24T06:02:33.300307Z",
     "shell.execute_reply": "2023-09-24T06:02:33.298974Z"
    },
    "papermill": {
     "duration": 0.037895,
     "end_time": "2023-09-24T06:02:33.303188",
     "exception": false,
     "start_time": "2023-09-24T06:02:33.265293",
     "status": "completed"
    },
    "tags": []
   },
   "outputs": [
    {
     "data": {
      "text/plain": [
       "3"
      ]
     },
     "execution_count": 59,
     "metadata": {},
     "output_type": "execute_result"
    }
   ],
   "source": [
    "#Checking for duplicates based on the titles column (you can pick any other column of your choice)\n",
    "df['Titles'].duplicated().sum()"
   ]
  },
  {
   "cell_type": "markdown",
   "id": "2c59f0f9",
   "metadata": {
    "papermill": {
     "duration": 0.01595,
     "end_time": "2023-09-24T06:02:33.336709",
     "exception": false,
     "start_time": "2023-09-24T06:02:33.320759",
     "status": "completed"
    },
    "tags": []
   },
   "source": [
    "<center>\n",
    "<div style=\"color:white;\n",
    "           display:fill;\n",
    "           border-radius:5px;\n",
    "           background-color: royalblue;\n",
    "           font-size:110%;\n",
    "           letter-spacing:0.5px\">\n",
    "\n",
    "<h2 style=\"padding: 10px;\n",
    "              color:white;\"> Dropping Duplicates\n",
    "\n",
    "    \n",
    "</h2>\n",
    "</div>\n",
    "    \n",
    "</center>"
   ]
  },
  {
   "cell_type": "markdown",
   "id": "3b687b46",
   "metadata": {
    "papermill": {
     "duration": 0.015646,
     "end_time": "2023-09-24T06:02:33.368373",
     "exception": false,
     "start_time": "2023-09-24T06:02:33.352727",
     "status": "completed"
    },
    "tags": []
   },
   "source": [
    "Pandas dataframes use a hash table data structure to store the data. The hash table stores the data in a key-value pair, where the keys are the column names and the values are the row values. When a duplicate row is added to the dataframe, the key-value pair is checked against the existing entries in the hash table to see if a duplicate exists. If a duplicate is found, the duplicate row is not added to the dataframe."
   ]
  },
  {
   "cell_type": "code",
   "execution_count": 60,
   "id": "2d9d52e8",
   "metadata": {
    "execution": {
     "iopub.execute_input": "2023-09-24T06:02:33.403287Z",
     "iopub.status.busy": "2023-09-24T06:02:33.401922Z",
     "iopub.status.idle": "2023-09-24T06:02:33.414588Z",
     "shell.execute_reply": "2023-09-24T06:02:33.413534Z"
    },
    "papermill": {
     "duration": 0.032441,
     "end_time": "2023-09-24T06:02:33.416901",
     "exception": false,
     "start_time": "2023-09-24T06:02:33.384460",
     "status": "completed"
    },
    "tags": []
   },
   "outputs": [],
   "source": [
    "#Dropping duplicates\n",
    "df.drop_duplicates(subset='Titles', inplace=True)"
   ]
  },
  {
   "cell_type": "code",
   "execution_count": 61,
   "id": "8d28e664",
   "metadata": {
    "execution": {
     "iopub.execute_input": "2023-09-24T06:02:33.452035Z",
     "iopub.status.busy": "2023-09-24T06:02:33.450665Z",
     "iopub.status.idle": "2023-09-24T06:02:33.460149Z",
     "shell.execute_reply": "2023-09-24T06:02:33.458817Z"
    },
    "papermill": {
     "duration": 0.03009,
     "end_time": "2023-09-24T06:02:33.462911",
     "exception": false,
     "start_time": "2023-09-24T06:02:33.432821",
     "status": "completed"
    },
    "tags": []
   },
   "outputs": [
    {
     "data": {
      "text/plain": [
       "0"
      ]
     },
     "execution_count": 61,
     "metadata": {},
     "output_type": "execute_result"
    }
   ],
   "source": [
    "#checking to see if those duplicates have been dropped or not\n",
    "df['Titles'].duplicated().sum()"
   ]
  },
  {
   "cell_type": "code",
   "execution_count": 62,
   "id": "a82eba84",
   "metadata": {
    "execution": {
     "iopub.execute_input": "2023-09-24T06:02:33.497366Z",
     "iopub.status.busy": "2023-09-24T06:02:33.496942Z",
     "iopub.status.idle": "2023-09-24T06:02:33.515386Z",
     "shell.execute_reply": "2023-09-24T06:02:33.513836Z"
    },
    "papermill": {
     "duration": 0.039066,
     "end_time": "2023-09-24T06:02:33.518134",
     "exception": false,
     "start_time": "2023-09-24T06:02:33.479068",
     "status": "completed"
    },
    "tags": []
   },
   "outputs": [
    {
     "data": {
      "text/html": [
       "<div>\n",
       "<style scoped>\n",
       "    .dataframe tbody tr th:only-of-type {\n",
       "        vertical-align: middle;\n",
       "    }\n",
       "\n",
       "    .dataframe tbody tr th {\n",
       "        vertical-align: top;\n",
       "    }\n",
       "\n",
       "    .dataframe thead th {\n",
       "        text-align: right;\n",
       "    }\n",
       "</style>\n",
       "<table border=\"1\" class=\"dataframe\">\n",
       "  <thead>\n",
       "    <tr style=\"text-align: right;\">\n",
       "      <th></th>\n",
       "      <th>Titles</th>\n",
       "      <th>Firm Name</th>\n",
       "      <th>Job Location</th>\n",
       "      <th>Experience</th>\n",
       "      <th>Positions</th>\n",
       "    </tr>\n",
       "  </thead>\n",
       "  <tbody>\n",
       "    <tr>\n",
       "      <th>0</th>\n",
       "      <td>Customer Service Representative</td>\n",
       "      <td>FAST AND DIRECT SERVICES</td>\n",
       "      <td>Mumbai City</td>\n",
       "      <td>0 to 3 Yrs</td>\n",
       "      <td>20</td>\n",
       "    </tr>\n",
       "    <tr>\n",
       "      <th>1</th>\n",
       "      <td>Customer Service Executive</td>\n",
       "      <td>CONSULTBAE INDIA PRIVATE LIMITED</td>\n",
       "      <td>Bangalore</td>\n",
       "      <td>1 to 5 Yrs</td>\n",
       "      <td>5</td>\n",
       "    </tr>\n",
       "    <tr>\n",
       "      <th>2</th>\n",
       "      <td>Business Development  Excutive</td>\n",
       "      <td>DIGI ENTER.</td>\n",
       "      <td>Delhi</td>\n",
       "      <td>1 to 2 Yrs</td>\n",
       "      <td>30</td>\n",
       "    </tr>\n",
       "    <tr>\n",
       "      <th>3</th>\n",
       "      <td>Voice Process Executive</td>\n",
       "      <td>TAGINDIA CONSULTANCY SERVICES PRIVA...</td>\n",
       "      <td>Bangalore</td>\n",
       "      <td>0 to 1 Yr</td>\n",
       "      <td>99</td>\n",
       "    </tr>\n",
       "    <tr>\n",
       "      <th>4</th>\n",
       "      <td>Production Manager</td>\n",
       "      <td>ARYA GOLD</td>\n",
       "      <td>Mumbai City</td>\n",
       "      <td>2 to 5 Yrs</td>\n",
       "      <td>4</td>\n",
       "    </tr>\n",
       "  </tbody>\n",
       "</table>\n",
       "</div>"
      ],
      "text/plain": [
       "                            Titles                               Firm Name  \\\n",
       "0  Customer Service Representative                FAST AND DIRECT SERVICES   \n",
       "1       Customer Service Executive        CONSULTBAE INDIA PRIVATE LIMITED   \n",
       "2   Business Development  Excutive                             DIGI ENTER.   \n",
       "3          Voice Process Executive  TAGINDIA CONSULTANCY SERVICES PRIVA...   \n",
       "4               Production Manager                               ARYA GOLD   \n",
       "\n",
       "  Job Location  Experience  Positions  \n",
       "0  Mumbai City  0 to 3 Yrs         20  \n",
       "1    Bangalore  1 to 5 Yrs          5  \n",
       "2        Delhi  1 to 2 Yrs         30  \n",
       "3    Bangalore   0 to 1 Yr         99  \n",
       "4  Mumbai City  2 to 5 Yrs          4  "
      ]
     },
     "execution_count": 62,
     "metadata": {},
     "output_type": "execute_result"
    }
   ],
   "source": [
    "df.head()"
   ]
  },
  {
   "cell_type": "code",
   "execution_count": 64,
   "id": "b35b799b",
   "metadata": {
    "execution": {
     "iopub.execute_input": "2023-09-24T06:02:33.555239Z",
     "iopub.status.busy": "2023-09-24T06:02:33.554844Z",
     "iopub.status.idle": "2023-09-24T06:02:33.562512Z",
     "shell.execute_reply": "2023-09-24T06:02:33.560976Z"
    },
    "papermill": {
     "duration": 0.030685,
     "end_time": "2023-09-24T06:02:33.565538",
     "exception": false,
     "start_time": "2023-09-24T06:02:33.534853",
     "status": "completed"
    },
    "tags": []
   },
   "outputs": [],
   "source": [
    "#Creating a New Column\n",
    "df['Category'] = ['Fresher' if '0' in i else 'Experienced' for i in df['Experience']]"
   ]
  },
  {
   "cell_type": "markdown",
   "id": "7cbd785c",
   "metadata": {
    "papermill": {
     "duration": 0.016133,
     "end_time": "2023-09-24T06:02:33.598210",
     "exception": false,
     "start_time": "2023-09-24T06:02:33.582077",
     "status": "completed"
    },
    "tags": []
   },
   "source": [
    "The logic to create this new column is that if the required experience is within the bounds of 2 or 3 years, candidates are usually thought of as a relative Fresher and this column should make it easy to sift through the data for anyone interested."
   ]
  },
  {
   "cell_type": "code",
   "execution_count": 65,
   "id": "0958353c",
   "metadata": {
    "execution": {
     "iopub.execute_input": "2023-09-24T06:02:33.633392Z",
     "iopub.status.busy": "2023-09-24T06:02:33.632988Z",
     "iopub.status.idle": "2023-09-24T06:02:33.650320Z",
     "shell.execute_reply": "2023-09-24T06:02:33.648678Z"
    },
    "papermill": {
     "duration": 0.038397,
     "end_time": "2023-09-24T06:02:33.653029",
     "exception": false,
     "start_time": "2023-09-24T06:02:33.614632",
     "status": "completed"
    },
    "tags": []
   },
   "outputs": [
    {
     "data": {
      "text/html": [
       "<div>\n",
       "<style scoped>\n",
       "    .dataframe tbody tr th:only-of-type {\n",
       "        vertical-align: middle;\n",
       "    }\n",
       "\n",
       "    .dataframe tbody tr th {\n",
       "        vertical-align: top;\n",
       "    }\n",
       "\n",
       "    .dataframe thead th {\n",
       "        text-align: right;\n",
       "    }\n",
       "</style>\n",
       "<table border=\"1\" class=\"dataframe\">\n",
       "  <thead>\n",
       "    <tr style=\"text-align: right;\">\n",
       "      <th></th>\n",
       "      <th>Titles</th>\n",
       "      <th>Firm Name</th>\n",
       "      <th>Job Location</th>\n",
       "      <th>Experience</th>\n",
       "      <th>Positions</th>\n",
       "      <th>Category</th>\n",
       "    </tr>\n",
       "  </thead>\n",
       "  <tbody>\n",
       "    <tr>\n",
       "      <th>3</th>\n",
       "      <td>Voice Process Executive</td>\n",
       "      <td>TAGINDIA CONSULTANCY SERVICES PRIVA...</td>\n",
       "      <td>Bangalore</td>\n",
       "      <td>0 to 1 Yr</td>\n",
       "      <td>99</td>\n",
       "      <td>Fresher</td>\n",
       "    </tr>\n",
       "    <tr>\n",
       "      <th>17</th>\n",
       "      <td>International Non Voice Process - Diversity Fo...</td>\n",
       "      <td>Intouch CX</td>\n",
       "      <td>Hyderabad</td>\n",
       "      <td>0 to 2 Yrs</td>\n",
       "      <td>99</td>\n",
       "      <td>Fresher</td>\n",
       "    </tr>\n",
       "    <tr>\n",
       "      <th>6</th>\n",
       "      <td>Hiring For Sr Relationship Manager</td>\n",
       "      <td>RELIANCE NIPPON LIFE INSURANCE COMP...</td>\n",
       "      <td>Indore</td>\n",
       "      <td>1 to 6 Yrs</td>\n",
       "      <td>99</td>\n",
       "      <td>Experienced</td>\n",
       "    </tr>\n",
       "    <tr>\n",
       "      <th>14</th>\n",
       "      <td>Walk-In Interview Acquisition Manager (AAM/PAM...</td>\n",
       "      <td>Kotak Mahindra Bank Limited</td>\n",
       "      <td>Bokaro</td>\n",
       "      <td>0 to 4 Yrs</td>\n",
       "      <td>99</td>\n",
       "      <td>Fresher</td>\n",
       "    </tr>\n",
       "    <tr>\n",
       "      <th>18</th>\n",
       "      <td>Medical Transcriptionist (Immediate Joiners)</td>\n",
       "      <td>Intouch CX</td>\n",
       "      <td>All India</td>\n",
       "      <td>2 to 4 Yrs</td>\n",
       "      <td>50</td>\n",
       "      <td>Experienced</td>\n",
       "    </tr>\n",
       "  </tbody>\n",
       "</table>\n",
       "</div>"
      ],
      "text/plain": [
       "                                               Titles  \\\n",
       "3                             Voice Process Executive   \n",
       "17  International Non Voice Process - Diversity Fo...   \n",
       "6                  Hiring For Sr Relationship Manager   \n",
       "14  Walk-In Interview Acquisition Manager (AAM/PAM...   \n",
       "18       Medical Transcriptionist (Immediate Joiners)   \n",
       "\n",
       "                                 Firm Name Job Location  Experience  \\\n",
       "3   TAGINDIA CONSULTANCY SERVICES PRIVA...    Bangalore   0 to 1 Yr   \n",
       "17                              Intouch CX    Hyderabad  0 to 2 Yrs   \n",
       "6   RELIANCE NIPPON LIFE INSURANCE COMP...       Indore  1 to 6 Yrs   \n",
       "14             Kotak Mahindra Bank Limited       Bokaro  0 to 4 Yrs   \n",
       "18                              Intouch CX    All India  2 to 4 Yrs   \n",
       "\n",
       "    Positions     Category  \n",
       "3          99      Fresher  \n",
       "17         99      Fresher  \n",
       "6          99  Experienced  \n",
       "14         99      Fresher  \n",
       "18         50  Experienced  "
      ]
     },
     "execution_count": 65,
     "metadata": {},
     "output_type": "execute_result"
    }
   ],
   "source": [
    "#DataFrame created based on Descending values \n",
    "final_df = df.sort_values(by='Positions', ascending=False)\n",
    "final_df.head()"
   ]
  },
  {
   "cell_type": "markdown",
   "id": "88b48178",
   "metadata": {
    "papermill": {
     "duration": 0.016482,
     "end_time": "2023-09-24T06:02:33.686472",
     "exception": false,
     "start_time": "2023-09-24T06:02:33.669990",
     "status": "completed"
    },
    "tags": []
   },
   "source": [
    "Now if there are several pages one could also write a loop for the rest of the pages which is what has been done in the code cell below."
   ]
  },
  {
   "cell_type": "code",
   "execution_count": 68,
   "id": "c07c728c",
   "metadata": {
    "execution": {
     "iopub.execute_input": "2023-09-24T06:02:33.722997Z",
     "iopub.status.busy": "2023-09-24T06:02:33.722600Z",
     "iopub.status.idle": "2023-09-24T06:02:37.135357Z",
     "shell.execute_reply": "2023-09-24T06:02:37.133731Z"
    },
    "papermill": {
     "duration": 3.434272,
     "end_time": "2023-09-24T06:02:37.138216",
     "exception": false,
     "start_time": "2023-09-24T06:02:33.703944",
     "status": "completed"
    },
    "tags": []
   },
   "outputs": [
    {
     "name": "stdout",
     "output_type": "stream",
     "text": [
      "                                                  Job Title                               Employer                                   Job Location Experience  Positions\n",
      "                              Platinum Relationship Manager            Kotak Mahindra Bank Limited                                      Hyderabad 2 to 6 Yrs          4\n",
      "                                       Tele Sales Executive MIVIAN INTERNATIONAL PRIVATE LIMITE...                                    Bhubaneswar 1 to 3 Yrs         20\n",
      "                            Customer Service Representative               FAST AND DIRECT SERVICES                                    Mumbai City 0 to 3 Yrs          5\n",
      "                                 Customer Service Executive       CONSULTBAE INDIA PRIVATE LIMITED                                      Bangalore 1 to 5 Yrs         30\n",
      "                             Business Development  Excutive                            DIGI ENTER.                                          Delhi 1 to 2 Yrs         99\n",
      "                                    Voice Process Executive TAGINDIA CONSULTANCY SERVICES PRIVA...                                      Bangalore  0 to 1 Yr          4\n",
      "                                         Production Manager                              ARYA GOLD                                    Mumbai City 2 to 5 Yrs         10\n",
      "                                   Opening for HR Recruiter         Stalwart Management Consulting                                    Mumbai City 1 to 6 Yrs         99\n",
      "                         Hiring For Sr Relationship Manager RELIANCE NIPPON LIFE INSURANCE COMP...                                         Indore 1 to 6 Yrs         20\n",
      "                                       Relationship Officer            Kotak Mahindra Bank Limited                                Gurugram+1Delhi 4 to 6 Yrs         20\n",
      "                                       Relationship Manager            Kotak Mahindra Bank Limited                                          Delhi 4 to 6 Yrs         20\n",
      "                                       Relationship Manager            Kotak Mahindra Bank Limited                                          Delhi 4 to 6 Yrs         21\n",
      "                      Relationship Manager-Corporate Salary            Kotak Mahindra Bank Limited                                    Mumbai City 1 to 6 Yrs         10\n",
      "        Content Writer ( English) Full Time- Noida- Walk-In                              Anolytics                                          Noida 0 to 3 Yrs         10\n",
      "                                                 Telecaller SHRADHA LALITCHANDRA DAUND Hiring F...                                         Panvel 1 to 6 Yrs         25\n",
      "Walk-In Interview Relationship Manager - Bokaro Steel C ...            Kotak Mahindra Bank Limited                                         Bokaro 1 to 6 Yrs         99\n",
      "Walk-In Interview Acquisition Manager (AAM/PAM) - Bokar ...            Kotak Mahindra Bank Limited                                         Bokaro 0 to 4 Yrs         50\n",
      "                                 Customer Service Executive     Square Business Services Pvt. Ltd.                                      Hyderabad  0 to 1 Yr         50\n",
      "                                                 Telecaller visionary outsourcing services Hiri...                                      All India 0 to 3 Yrs         99\n",
      "        International Non Voice Process - Diversity Focused                             Intouch CX                                      Hyderabad 0 to 2 Yrs         50\n",
      "               Medical Transcriptionist (Immediate Joiners)                             Intouch CX                                      All India 2 to 4 Yrs         16\n",
      "                                  Voice Process ( Domestic)             M.A.R.S Business Solutions                                Hyderabad+1Pune 0 to 3 Yrs         99\n",
      "                     Non It Recruiters - Bulk Hiring Mumbai AASAANJOBS PRIVATE LIMITED Hiring F...                                    Mumbai City 2 to 5 Yrs         10\n",
      "                                   Java Back-end Developers             Sunil Kumar Hiring For SKS Bangalore+4Chennai, Hyderabad, Gurugram, Delhi 2 to 7 Yrs         10\n",
      "                                      Senior Agency Manager RELIANCE NIPPON LIFE INSURANCE COMP...              Noida+3Ghaziabad, Gurugram, Delhi 1 to 6 Yrs          5\n",
      "                                 Customer Service Executive Epicenter Technologies Private Limi...             Mumbai City+2Mira Bhayandar, Vasai      0 Yrs         20\n",
      "                                   Customer Support - Voice          Wroots Global Private Limited                                      Bangalore 0 to 4 Yrs         32\n",
      "Walkin for HR Executive ,Client Coordinator  - PERSONAL ...                      PERSONAL NETWORK.                                      Bangalore 0 to 3 Yrs         40\n",
      "                                        Data Entry Operator              RECKON DATA SOLUTIONS LLP                                           Pune  0 to 1 Yr          2\n",
      "                                               Hr Recruiter BHARTI HR CLEANER WALA  ZEEVIKA JOB...                                        Lucknow 0 to 2 Yrs         20\n",
      "                      Hiring for customer support associate             STRYDE CONSULTING SERVICES                                      Hyderabad      0 Yrs         15\n",
      "                                    FEMALE OFFICE ASSISTANT      BHATIA EMPLOYMENT PRIVATE LIMITED                                    Mumbai City  0 to 1 Yr         50\n",
      "                                        Acquisition Manager            Kotak Mahindra Bank Limited                                       Gurugram 1 to 3 Yrs         21\n",
      "                                       Relationship Manager            Kotak Mahindra Bank Limited                                          Delhi 4 to 9 Yrs         99\n",
      "                            Customer Support Representative         Hucon Solutions India Pvt.Ltd.                                      Hyderabad 0 to 4 Yrs         50\n",
      "                                             Sales officer, AVS MANPOWER CONSULTANCY PRIVATE LI...                                      All India 1 to 6 Yrs         50\n",
      "                                               Hr Recruiter                    The Perfect Recruit                    Mumbai City+1Mira Bhayandar 0 to 2 Yrs         20\n",
      "                                International Voice Process                             Intouch CX                                      Hyderabad 1 to 4 Yrs         99\n",
      "                                 Customer Service Associate                             Intouch CX                                      Hyderabad 1 to 4 Yrs          5\n",
      "                    Mega Hiring For Customer Care Executive                   J D MAN POWER SUPPLY                                    Mumbai City 0 to 2 Yrs         43\n",
      "                               Senior Relationships Manager RELIANCE NIPPON LIFE INSURANCE COMP...                                           Pune 1 to 3 Yrs          4\n",
      "                               Talent Acquisition Executive                          Transformplus                                         Jaipur  0 to 1 Yr         40\n",
      "                           Assistant Sales Manager in Surat                              TEKPILLAR                                          Surat 1 to 5 Yrs         80\n",
      "                                   Senior Payroll Associate         OSOURCE GLOBAL PRIVATE LIMITED                                    Navi Mumbai 1 to 6 Yrs         50\n",
      "                       SPOT Offers - HR Recruiter Positions         WATERLEAF CONSULTANTS (P) LTD.                                      Hyderabad      0 Yrs         50\n",
      "                            Customer Service Representative       Tricolour Manpower Solutions LLP                                      Hyderabad  0 to 1 Yr         25\n",
      "                                        Home Loan Executive           iAaptha Techno Solutions LLP                                        Chennai 0 to 2 Yrs         50\n",
      "                                 Customer Service Executive            Square BPO Services Pvt Ltd                                      Hyderabad 0 to 3 Yrs         50\n",
      "                                              Sales Manager                 Story Webnet Services.                                      All India 0 to 3 Yrs         50\n",
      "                                 Associate Sales Consultant Policy Bazaar Insurance Brokers Pri...                                    Mumbai City 1 to 3 Yrs         50\n",
      "                                           Travel Executive                     Sharda IT Services                                Noida+1Gurugram 1 to 2 Yrs         50\n",
      "                                   Telecaller (Real estate)                     Sharda IT Services                                       Gurugram      1 Yrs         50\n",
      "                                        Telecaller (Telugu)                     Sharda IT Services                                          Noida      1 Yrs         20\n",
      "                                 Sales Executive (Domestic)                     Sharda IT Services                                Noida+1Gurugram      1 Yrs         49\n",
      "                       Collection Executive (International)                     Sharda IT Services                                          Noida 1 to 2 Yrs         50\n",
      "                              International Sales Executive                     Sharda IT Services                         Noida+2Gurugram, Delhi 1 to 2 Yrs         99\n",
      "                                  Technical Sales Executive                     Sharda IT Services                                   Noida+1Delhi      1 Yrs          3\n",
      "                        Agency Manager- On Role Opportunity RELIANCE NIPPON LIFE INSURANCE COMP...                                     Vijayawada 1 to 6 Yrs         20\n",
      "                                                Tele Caller                     Sharda IT Services                         Noida+2Gurugram, Delhi 1 to 2 Yrs         50\n",
      "            HIRING FOR SENIOR RELATIONSHIP MANAGER AT RNLIC RELIANCE NIPPON LIFE INSURANCE COMP...                                    Mumbai City 1 to 6 Yrs         50\n",
      "                                             Civil Engineer              Uniconsys Private Limited                                        Chennai 0 to 2 Yrs         50\n",
      "                             International Travel Executive                     Sharda IT Services                                Gurugram+1Delhi 1 to 2 Yrs         20\n",
      "                                       Relationship Manager RELIANCE NIPPON LIFE INSURANCE COMP...                                        Chennai 1 to 6 Yrs         50\n",
      "                                        Telesales Executive                     Sharda IT Services                         Noida+2Gurugram, Delhi  0 to 1 Yr         50\n",
      "                                    Customer Care Executive                     Sharda IT Services                                       Gurugram  0 to 1 Yr         50\n",
      "                                          Telugu Telecaller                     Sharda IT Services                                          Noida 1 to 2 Yrs         50\n",
      "                                  Technical Sales Executive                     Sharda IT Services                         Noida+2Gurugram, Delhi 1 to 2 Yrs         50\n",
      "                            Sales Executive (International)                     Sharda IT Services                         Noida+2Gurugram, Delhi 1 to 2 Yrs          3\n",
      "                                 Customer Service Executive                     Sharda IT Services                                       Gurugram  0 to 1 Yr          3\n",
      "                          Telesales Executive (DomesticBPO)                     Sharda IT Services                                Noida+1Gurugram 1 to 2 Yrs          3\n",
      "                             Telecalling Executive (Female)                     Sharda IT Services                                       Gurugram 1 to 2 Yrs         20\n",
      "                                   Ppc Executive(Nut Bolts) AIM JOBS HR SERVICE Hiring For Limi...                                       Ludhiana 2 to 6 Yrs         50\n",
      "                                          Sales Coordinator              Adroitt Medisys Solutions                                      Bangalore 1 to 4 Yrs         50\n",
      "                                          Sales Coordinator              Adroitt Medisys Solutions                                      Bangalore 1 to 4 Yrs         50\n",
      "                                    US Auto Sales Executive                     Sharda IT Services                                          Noida      1 Yrs         50\n",
      "                      Sales Executive for International BPO                     Sharda IT Services                         Noida+2Gurugram, Delhi      1 Yrs         20\n",
      "                                           Travel Executive                     Sharda IT Services                         Noida+2Gurugram, Delhi      1 Yrs          0\n",
      "                           Sales Executive for Domestic BPO                     Sharda IT Services                         Noida+2Gurugram, Delhi  0 to 1 Yr          0\n",
      "                                    Telemarketing Executive                     Sharda IT Services                         Noida+2Gurugram, Delhi  0 to 1 Yr          0\n",
      "                          Travel Executive(Holiday Package)                     Sharda IT Services                                       Gurugram      1 Yrs          0\n",
      "We have managed to fetch 80 job postings while scraping 5 pages.\n"
     ]
    }
   ],
   "source": [
    "import requests\n",
    "from bs4 import BeautifulSoup\n",
    "import pandas as pd\n",
    "import re\n",
    "\n",
    "TITLES = []\n",
    "COMPANIES = []\n",
    "LOCATIONS = []\n",
    "EXPERIENCE = []\n",
    "VACANCIES = []\n",
    "\n",
    "Range = range(1, 6)\n",
    "for i in Range:\n",
    "    link = f'https://www.shine.com/job-search/jobs-{i}?job_type=2&top_companies_boost=true&sort=1'\n",
    "    response = requests.get(link)\n",
    "\n",
    "    if response.status_code == 200:\n",
    "        soup = BeautifulSoup(response.content, 'html.parser')\n",
    "\n",
    "        # Fetching job titles\n",
    "        req = soup.select('strong.jobCard_pReplaceH2__xWmHg h2 a')\n",
    "        titles = [r.text for r in req]\n",
    "        TITLES.extend(titles)\n",
    "        \n",
    "        # Fetching company names\n",
    "        orgs = soup.find_all('div', class_='jobCard_jobCard_cName__mYnow')\n",
    "        companies = [o.text.strip() for o in orgs]\n",
    "        COMPANIES.extend(companies)\n",
    "        \n",
    "        # Fetching job locations\n",
    "        loc = soup.find_all('div', class_='jobCard_jobCard_lists_item__YxRkV jobCard_locationIcon__zrWt2')\n",
    "        locations = [l.text.strip() for l in loc]\n",
    "        LOCATIONS.extend(locations)\n",
    "        \n",
    "        # Fetching experience\n",
    "        exp = soup.find_all('div', class_='jobCard_jobCard_lists_item__YxRkV jobCard_jobIcon__3FB1t')\n",
    "        experience = [e.text.strip() for e in exp]\n",
    "        EXPERIENCE.extend(experience)\n",
    "        \n",
    "        # Fetching number of positions\n",
    "        vac = soup.find_all('div', class_='jobCard_jobCard_lists_item__YxRkV jobCard_positionIcon__2hhkm')\n",
    "        vacancies = [int(re.findall(r'\\d+', v.text)[0]) if re.findall(r'\\d+', v.text) else 0 for v in vac]\n",
    "        VACANCIES.extend(vacancies)\n",
    "        \n",
    "    else:\n",
    "        print(f'Invalid Response for page {i}')\n",
    "\n",
    "# Aligning the lengths of all lists by filling missing positions with a placeholder (e.g., None or 0)\n",
    "max_length = max(len(TITLES), len(COMPANIES), len(LOCATIONS), len(EXPERIENCE), len(VACANCIES))\n",
    "\n",
    "def extend_list(lst, target_length, fill_value=0):\n",
    "    return lst + [fill_value] * (target_length - len(lst))\n",
    "\n",
    "TITLES = extend_list(TITLES, max_length)\n",
    "COMPANIES = extend_list(COMPANIES, max_length)\n",
    "LOCATIONS = extend_list(LOCATIONS, max_length)\n",
    "EXPERIENCE = extend_list(EXPERIENCE, max_length)\n",
    "VACANCIES = extend_list(VACANCIES, max_length)\n",
    "\n",
    "# Creating the DataFrame\n",
    "df = pd.DataFrame({\n",
    "    'Job Title': TITLES, \n",
    "    'Employer': COMPANIES,\n",
    "    'Job Location': LOCATIONS, \n",
    "    'Experience': EXPERIENCE, \n",
    "    'Positions': VACANCIES\n",
    "})\n",
    "\n",
    "# Displaying the DataFrame\n",
    "print(df.to_string(index=False))\n",
    "\n",
    "print(f'We have managed to fetch {len(df)} job postings while scraping {len(Range)} pages.')\n"
   ]
  },
  {
   "cell_type": "markdown",
   "id": "b860d52b",
   "metadata": {
    "papermill": {
     "duration": 0.016519,
     "end_time": "2023-09-24T06:02:37.171662",
     "exception": false,
     "start_time": "2023-09-24T06:02:37.155143",
     "status": "completed"
    },
    "tags": []
   },
   "source": [
    "<center>\n",
    "<div style=\"color:white;\n",
    "           display:fill;\n",
    "           border-radius:5px;\n",
    "           background-color: royalblue;\n",
    "           font-size:110%;\n",
    "           letter-spacing:0.5px\">\n",
    "\n",
    "<h2 style=\"padding: 10px;\n",
    "              color:white;\"> Visualizing Data\n",
    "\n",
    "    \n",
    "</h2>\n",
    "</div>\n",
    "    \n",
    "</center>"
   ]
  },
  {
   "cell_type": "code",
   "execution_count": 69,
   "id": "8bbaa076",
   "metadata": {
    "execution": {
     "iopub.execute_input": "2023-09-24T06:02:37.207851Z",
     "iopub.status.busy": "2023-09-24T06:02:37.207314Z",
     "iopub.status.idle": "2023-09-24T06:02:37.218412Z",
     "shell.execute_reply": "2023-09-24T06:02:37.216990Z"
    },
    "papermill": {
     "duration": 0.03242,
     "end_time": "2023-09-24T06:02:37.221038",
     "exception": false,
     "start_time": "2023-09-24T06:02:37.188618",
     "status": "completed"
    },
    "tags": []
   },
   "outputs": [],
   "source": [
    "#Dropping the duplicates and adding the new column\n",
    "df = df.drop_duplicates(subset=['Job Title'])\n",
    "df['Category'] = ['Fresher' if '0' in i else 'Experienced' for i in df['Experience']]"
   ]
  },
  {
   "cell_type": "code",
   "execution_count": 70,
   "id": "c0b664b3",
   "metadata": {
    "execution": {
     "iopub.execute_input": "2023-09-24T06:02:37.258623Z",
     "iopub.status.busy": "2023-09-24T06:02:37.258103Z",
     "iopub.status.idle": "2023-09-24T06:02:37.275403Z",
     "shell.execute_reply": "2023-09-24T06:02:37.273985Z"
    },
    "papermill": {
     "duration": 0.038906,
     "end_time": "2023-09-24T06:02:37.278041",
     "exception": false,
     "start_time": "2023-09-24T06:02:37.239135",
     "status": "completed"
    },
    "tags": []
   },
   "outputs": [
    {
     "data": {
      "text/html": [
       "<div>\n",
       "<style scoped>\n",
       "    .dataframe tbody tr th:only-of-type {\n",
       "        vertical-align: middle;\n",
       "    }\n",
       "\n",
       "    .dataframe tbody tr th {\n",
       "        vertical-align: top;\n",
       "    }\n",
       "\n",
       "    .dataframe thead th {\n",
       "        text-align: right;\n",
       "    }\n",
       "</style>\n",
       "<table border=\"1\" class=\"dataframe\">\n",
       "  <thead>\n",
       "    <tr style=\"text-align: right;\">\n",
       "      <th></th>\n",
       "      <th>Job Title</th>\n",
       "      <th>Employer</th>\n",
       "      <th>Job Location</th>\n",
       "      <th>Experience</th>\n",
       "      <th>Positions</th>\n",
       "      <th>Category</th>\n",
       "    </tr>\n",
       "  </thead>\n",
       "  <tbody>\n",
       "    <tr>\n",
       "      <th>0</th>\n",
       "      <td>Platinum Relationship Manager</td>\n",
       "      <td>Kotak Mahindra Bank Limited</td>\n",
       "      <td>Hyderabad</td>\n",
       "      <td>2 to 6 Yrs</td>\n",
       "      <td>4</td>\n",
       "      <td>Experienced</td>\n",
       "    </tr>\n",
       "    <tr>\n",
       "      <th>1</th>\n",
       "      <td>Tele Sales Executive</td>\n",
       "      <td>MIVIAN INTERNATIONAL PRIVATE LIMITE...</td>\n",
       "      <td>Bhubaneswar</td>\n",
       "      <td>1 to 3 Yrs</td>\n",
       "      <td>20</td>\n",
       "      <td>Experienced</td>\n",
       "    </tr>\n",
       "    <tr>\n",
       "      <th>2</th>\n",
       "      <td>Customer Service Representative</td>\n",
       "      <td>FAST AND DIRECT SERVICES</td>\n",
       "      <td>Mumbai City</td>\n",
       "      <td>0 to 3 Yrs</td>\n",
       "      <td>5</td>\n",
       "      <td>Fresher</td>\n",
       "    </tr>\n",
       "    <tr>\n",
       "      <th>3</th>\n",
       "      <td>Customer Service Executive</td>\n",
       "      <td>CONSULTBAE INDIA PRIVATE LIMITED</td>\n",
       "      <td>Bangalore</td>\n",
       "      <td>1 to 5 Yrs</td>\n",
       "      <td>30</td>\n",
       "      <td>Experienced</td>\n",
       "    </tr>\n",
       "    <tr>\n",
       "      <th>4</th>\n",
       "      <td>Business Development  Excutive</td>\n",
       "      <td>DIGI ENTER.</td>\n",
       "      <td>Delhi</td>\n",
       "      <td>1 to 2 Yrs</td>\n",
       "      <td>99</td>\n",
       "      <td>Experienced</td>\n",
       "    </tr>\n",
       "  </tbody>\n",
       "</table>\n",
       "</div>"
      ],
      "text/plain": [
       "                         Job Title                                Employer  \\\n",
       "0    Platinum Relationship Manager             Kotak Mahindra Bank Limited   \n",
       "1             Tele Sales Executive  MIVIAN INTERNATIONAL PRIVATE LIMITE...   \n",
       "2  Customer Service Representative                FAST AND DIRECT SERVICES   \n",
       "3       Customer Service Executive        CONSULTBAE INDIA PRIVATE LIMITED   \n",
       "4   Business Development  Excutive                             DIGI ENTER.   \n",
       "\n",
       "  Job Location  Experience  Positions     Category  \n",
       "0    Hyderabad  2 to 6 Yrs          4  Experienced  \n",
       "1  Bhubaneswar  1 to 3 Yrs         20  Experienced  \n",
       "2  Mumbai City  0 to 3 Yrs          5      Fresher  \n",
       "3    Bangalore  1 to 5 Yrs         30  Experienced  \n",
       "4        Delhi  1 to 2 Yrs         99  Experienced  "
      ]
     },
     "execution_count": 70,
     "metadata": {},
     "output_type": "execute_result"
    }
   ],
   "source": [
    "df.head()"
   ]
  },
  {
   "cell_type": "code",
   "execution_count": 71,
   "id": "0de23e22",
   "metadata": {
    "execution": {
     "iopub.execute_input": "2023-09-24T06:02:37.314837Z",
     "iopub.status.busy": "2023-09-24T06:02:37.314334Z",
     "iopub.status.idle": "2023-09-24T06:02:37.781344Z",
     "shell.execute_reply": "2023-09-24T06:02:37.780137Z"
    },
    "papermill": {
     "duration": 0.489359,
     "end_time": "2023-09-24T06:02:37.784663",
     "exception": false,
     "start_time": "2023-09-24T06:02:37.295304",
     "status": "completed"
    },
    "tags": []
   },
   "outputs": [
    {
     "data": {
      "image/png": "[encoded data removed]",
      "text/plain": [
       "<Figure size 1500x600 with 2 Axes>"
      ]
     },
     "metadata": {},
     "output_type": "display_data"
    }
   ],
   "source": [
    "palette = ['#38A7D0', '#F67088']\n",
    "fig = plt.figure(figsize = [15, 6])\n",
    "plt.subplot(1, 2, 1)\n",
    "ax = sns.countplot(x = 'Category', data = df, palette = palette)\n",
    "for bar in ax.patches:\n",
    "    ax.annotate(format(bar.get_height(), '.0f'),(bar.get_x() + bar.get_width() / 2,bar.get_height()), \n",
    "                 ha='center', va='center',size=15, xytext=(0, 8),textcoords='offset points')\n",
    "plt.xlabel(xlabel = 'Category', size = 14)\n",
    "plt.ylabel(ylabel = 'Frequency', size = 14)\n",
    "plt.gca().spines['top'].set_visible(False)\n",
    "plt.gca().spines['right'].set_visible(False)\n",
    "plt.title(label = 'Frequency Distribution', size = 14)\n",
    "\n",
    "plt.subplot(1, 2, 2)\n",
    "space = np.ones(len(df.Category.unique()))/10\n",
    "df['Category'].value_counts().plot(kind = 'pie', explode = space, fontsize = 14, autopct = '%3.1f%%', \n",
    "                                 wedgeprops = dict(width=0.15), startangle = 160, figsize = [15, 6], legend = False,\n",
    "                                  colors=palette)\n",
    "plt.title(label = 'Proportion Distribution', size = 14)\n",
    "plt.tight_layout(pad = 3.0)\n",
    "plt.suptitle(t = 'Frequency & Proportion of Category', y = 1.02, size = 16)\n",
    "plt.show()"
   ]
  },
  {
   "cell_type": "markdown",
   "id": "0547b5f8",
   "metadata": {
    "papermill": {
     "duration": 0.018687,
     "end_time": "2023-09-24T06:02:37.823020",
     "exception": false,
     "start_time": "2023-09-24T06:02:37.804333",
     "status": "completed"
    },
    "tags": []
   },
   "source": [
    "From the chart above, we can clearly see there are more job openings for Freshers as compared to the Experienced Professionals."
   ]
  },
  {
   "cell_type": "code",
   "execution_count": 72,
   "id": "44292a34",
   "metadata": {
    "execution": {
     "iopub.execute_input": "2023-09-24T06:02:37.864109Z",
     "iopub.status.busy": "2023-09-24T06:02:37.863667Z",
     "iopub.status.idle": "2023-09-24T06:02:38.224252Z",
     "shell.execute_reply": "2023-09-24T06:02:38.223372Z"
    },
    "papermill": {
     "duration": 0.384537,
     "end_time": "2023-09-24T06:02:38.227233",
     "exception": false,
     "start_time": "2023-09-24T06:02:37.842696",
     "status": "completed"
    },
    "tags": []
   },
   "outputs": [
    {
     "data": {
      "image/png": "[encoded data removed]",
      "text/plain": [
       "<Figure size 2200x500 with 1 Axes>"
      ]
     },
     "metadata": {},
     "output_type": "display_data"
    }
   ],
   "source": [
    "plt.figure(figsize=(22,5), dpi=100)\n",
    "ax = sns.histplot(df['Positions'], color = palette[0])\n",
    "plt.gca().spines['top'].set_visible(False)\n",
    "plt.gca().spines['right'].set_visible(False)\n",
    "plt.title('Positions Histogram', fontsize=20)\n",
    "plt.axhline(df.Positions.mean(), color='red')\n",
    "plt.legend(['Avg of Positions'])\n",
    "plt.show()"
   ]
  },
  {
   "cell_type": "markdown",
   "id": "f6d5dbd6",
   "metadata": {
    "papermill": {
     "duration": 0.019362,
     "end_time": "2023-09-24T06:02:38.266760",
     "exception": false,
     "start_time": "2023-09-24T06:02:38.247398",
     "status": "completed"
    },
    "tags": []
   },
   "source": [
    "Clearly, job openings are more in the range of 0 to 15 on a whole."
   ]
  },
  {
   "cell_type": "markdown",
   "id": "f46441a9",
   "metadata": {
    "papermill": {
     "duration": 0.019156,
     "end_time": "2023-09-24T06:02:38.305304",
     "exception": false,
     "start_time": "2023-09-24T06:02:38.286148",
     "status": "completed"
    },
    "tags": []
   },
   "source": [
    "Showing the results for first 10 firms only"
   ]
  },
  {
   "cell_type": "code",
   "execution_count": 73,
   "id": "1d3b1406",
   "metadata": {
    "execution": {
     "iopub.execute_input": "2023-09-24T06:02:38.347990Z",
     "iopub.status.busy": "2023-09-24T06:02:38.347173Z",
     "iopub.status.idle": "2023-09-24T06:02:39.038107Z",
     "shell.execute_reply": "2023-09-24T06:02:39.036760Z"
    },
    "papermill": {
     "duration": 0.717382,
     "end_time": "2023-09-24T06:02:39.042706",
     "exception": false,
     "start_time": "2023-09-24T06:02:38.325324",
     "status": "completed"
    },
    "tags": []
   },
   "outputs": [
    {
     "data": {
      "image/png": "[encoded data removed]",
      "text/plain": [
       "<Figure size 2200x500 with 1 Axes>"
      ]
     },
     "metadata": {},
     "output_type": "display_data"
    }
   ],
   "source": [
    "plt.figure(figsize=(22,5), dpi=100)\n",
    "ax = sns.barplot(x=df['Employer'][:10], y=df['Positions'][:10])\n",
    "plt.gca().spines['top'].set_visible(False)\n",
    "plt.gca().spines['right'].set_visible(False)\n",
    "plt.title('Firm Wise vacancy count', fontsize=20)\n",
    "plt.axhline(df.Positions.mean(), color='red')\n",
    "\n",
    "#Annotating each bar\n",
    "for bar in ax.patches:\n",
    "    ax.annotate(format(bar.get_height(), '.0f'),(bar.get_x() + bar.get_width() / 2,bar.get_height()), \n",
    "                 ha='center', va='center',size=15, xytext=(0, 8),textcoords='offset points')\n",
    "\n",
    "#coloring each bar based on a condition if the bar value is greator or less than count of positions for a given firm \n",
    "for i in range(len(ax.patches)):\n",
    "    #getting the count of each bar\n",
    "    counts = [p.get_height() for p in ax.patches]\n",
    "    #getting the colors based on the condition for each bar\n",
    "    colors = ['#38A7D0' if j > df.Positions.mean() else '#F67088' for j in counts]\n",
    "    #passing the color for each bar\n",
    "    ax.patches[i].set_facecolor(colors[i])  \n",
    "    \n",
    "plt.xticks(rotation=45)\n",
    "plt.show()"
   ]
  },
  {
   "cell_type": "code",
   "execution_count": 74,
   "id": "666ad16f",
   "metadata": {
    "execution": {
     "iopub.execute_input": "2023-09-24T06:02:39.087194Z",
     "iopub.status.busy": "2023-09-24T06:02:39.086714Z",
     "iopub.status.idle": "2023-09-24T06:02:39.514923Z",
     "shell.execute_reply": "2023-09-24T06:02:39.513703Z"
    },
    "papermill": {
     "duration": 0.45377,
     "end_time": "2023-09-24T06:02:39.517865",
     "exception": false,
     "start_time": "2023-09-24T06:02:39.064095",
     "status": "completed"
    },
    "tags": []
   },
   "outputs": [
    {
     "data": {
      "image/png": "[encoded data removed]",
      "text/plain": [
       "<Figure size 2200x500 with 1 Axes>"
      ]
     },
     "metadata": {},
     "output_type": "display_data"
    }
   ],
   "source": [
    "plt.figure(figsize=(22,5), dpi=100)\n",
    "ax = sns.countplot(data =df,x=df['Experience'][:10], hue=df['Experience'][:10], dodge=False, palette=palette)\n",
    "for bar in ax.patches:\n",
    "    ax.annotate(format(bar.get_height(), '.0f'),(bar.get_x() + bar.get_width() / 2,bar.get_height()), \n",
    "                 ha='center', va='center',size=15, xytext=(0, 8),textcoords='offset points')\n",
    "plt.gca().spines['top'].set_visible(False)\n",
    "plt.gca().spines['right'].set_visible(False)\n",
    "plt.title('Category Count Plot', fontsize=20)\n",
    "plt.show()"
   ]
  },
  {
   "cell_type": "markdown",
   "id": "a3f261a1",
   "metadata": {
    "papermill": {
     "duration": 0.021142,
     "end_time": "2023-09-24T06:02:39.561517",
     "exception": false,
     "start_time": "2023-09-24T06:02:39.540375",
     "status": "completed"
    },
    "tags": []
   },
   "source": [
    "## CONCLUSION\n",
    "\n",
    "In this Jupyter Notebook, we have implemented a web scraping script to extract job-related data from a website. The script goes through the following steps to gather information:\n",
    "\n",
    "1. **Sending HTTP Requests**: We use the `requests` library to send HTTP GET requests to the constructed URLs. We check the status code of the response to ensure that we receive a successful response (HTTP status code 200) before proceeding.\n",
    "\n",
    "2. **Parsing HTML Content**: Upon successful retrieval of a web page, we used the `BeautifulSoup` library to parse the HTML content of the page. This enabled us to navigate the page's structure and extract relevant information.\n",
    "\n",
    "3. **Extracting Data**: We learnt how to navigate the HTML of a website to get the required data, stored in various classes, we are after. In our case, we went to get the job titles, company names, locations, and experience requirements. We also created a new column based on our existing data.\n",
    "\n",
    "4. **Looping through Pages**: Once we got the hang of how to do this for one page, we iterated through a range of pages, where each page contains a list of job postings. For each page, we construct a URL with the page number and specific query parameters related to job type, top companies, and sorting.\n",
    "\n",
    "5. **Visualizing Data**: We also took a look at some charts to understand our data i.e what is data distribution of Number of Positions, How many jobs in the market are for freshers and for experienced professionals.\n",
    "\n",
    "By following these steps, we systematically gather data from multiple web pages, ensuring that we handle variations in the format of information such as job titles, company names, locations, and experience requirements. The use of regular expressions allowed us to extract specific patterns from the text, enhancing the accuracy of our data extraction process.\n",
    "\n",
    "This overall helped strengthen our understanding of how to fetch the unstructured data and structure it into a more meaningful and readable mannner. \n",
    "\n",
    "Thanks for the time to go through my notebook."
   ]
  },
  {
   "cell_type": "markdown",
   "id": "7712fdc0",
   "metadata": {},
   "source": []
  },
  {
   "cell_type": "code",
   "execution_count": 77,
   "id": "6ed22776",
   "metadata": {},
   "outputs": [],
   "source": [
    "import sqlite3"
   ]
  },
  {
   "cell_type": "code",
   "execution_count": 79,
   "id": "7aeeee3d",
   "metadata": {},
   "outputs": [
    {
     "name": "stdout",
     "output_type": "stream",
     "text": [
      "Defaulting to user installation because normal site-packages is not writeable\n",
      "Collecting sqlalchemy\n",
      "  Using cached SQLAlchemy-2.0.30-cp312-cp312-win_amd64.whl.metadata (9.8 kB)\n",
      "Requirement already satisfied: typing-extensions>=4.6.0 in c:\\users\\asus\\appdata\\roaming\\python\\python312\\site-packages (from sqlalchemy) (4.10.0)\n",
      "Collecting greenlet!=0.4.17 (from sqlalchemy)\n",
      "  Downloading greenlet-3.0.3-cp312-cp312-win_amd64.whl.metadata (3.9 kB)\n",
      "Downloading SQLAlchemy-2.0.30-cp312-cp312-win_amd64.whl (2.1 MB)\n",
      "   ---------------------------------------- 0.0/2.1 MB ? eta -:--:--\n",
      "   ---------------------------------------- 0.0/2.1 MB ? eta -:--:--\n",
      "   ---------------------------------------- 0.0/2.1 MB ? eta -:--:--\n",
      "    --------------------------------------- 0.0/2.1 MB 325.1 kB/s eta 0:00:07\n",
      "   - -------------------------------------- 0.1/2.1 MB 469.7 kB/s eta 0:00:05\n",
      "   -- ------------------------------------- 0.1/2.1 MB 853.3 kB/s eta 0:00:03\n",
      "   --- ------------------------------------ 0.2/2.1 MB 1.0 MB/s eta 0:00:02\n",
      "   ------ --------------------------------- 0.3/2.1 MB 1.3 MB/s eta 0:00:02\n",
      "   ------- -------------------------------- 0.4/2.1 MB 1.3 MB/s eta 0:00:02\n",
      "   --------- ------------------------------ 0.5/2.1 MB 1.4 MB/s eta 0:00:02\n",
      "   ----------- ---------------------------- 0.6/2.1 MB 1.5 MB/s eta 0:00:02\n",
      "   ------------ --------------------------- 0.6/2.1 MB 1.5 MB/s eta 0:00:01\n",
      "   ------------- -------------------------- 0.7/2.1 MB 1.5 MB/s eta 0:00:01\n",
      "   --------------- ------------------------ 0.8/2.1 MB 1.6 MB/s eta 0:00:01\n",
      "   ------------------- -------------------- 1.0/2.1 MB 1.7 MB/s eta 0:00:01\n",
      "   ---------------------- ----------------- 1.2/2.1 MB 1.9 MB/s eta 0:00:01\n",
      "   ------------------------- -------------- 1.3/2.1 MB 2.0 MB/s eta 0:00:01\n",
      "   ---------------------------- ----------- 1.5/2.1 MB 2.1 MB/s eta 0:00:01\n",
      "   ------------------------------- -------- 1.6/2.1 MB 2.2 MB/s eta 0:00:01\n",
      "   ---------------------------------- ----- 1.8/2.1 MB 2.2 MB/s eta 0:00:01\n",
      "   ------------------------------------- -- 1.9/2.1 MB 2.3 MB/s eta 0:00:01\n",
      "   ---------------------------------------  2.0/2.1 MB 2.3 MB/s eta 0:00:01\n",
      "   ---------------------------------------- 2.1/2.1 MB 2.2 MB/s eta 0:00:00\n",
      "Downloading greenlet-3.0.3-cp312-cp312-win_amd64.whl (293 kB)\n",
      "   ---------------------------------------- 0.0/293.6 kB ? eta -:--:--\n",
      "   ------------ --------------------------- 92.2/293.6 kB 2.6 MB/s eta 0:00:01\n",
      "   --------------------------- ------------ 204.8/293.6 kB 2.5 MB/s eta 0:00:01\n",
      "   ---------------------------------------- 293.6/293.6 kB 2.6 MB/s eta 0:00:00\n",
      "Installing collected packages: greenlet, sqlalchemy\n",
      "Successfully installed greenlet-3.0.3 sqlalchemy-2.0.30\n"
     ]
    }
   ],
   "source": [
    "!pip install sqlalchemy"
   ]
  },
  {
   "cell_type": "code",
   "execution_count": 82,
   "id": "3db4d6c0",
   "metadata": {},
   "outputs": [
    {
     "name": "stdout",
     "output_type": "stream",
     "text": [
      "We have managed to fetch 80 job postings while scraping 5 pages.\n",
      "Job Title: Platinum Relationship Manager, Employer: Kotak Mahindra Bank Limited, Location: Hyderabad, Experience: 2 to 6 Yrs, Positions: 4\n",
      "Job Title: Tele Sales Executive, Employer: MIVIAN INTERNATIONAL PRIVATE LIMITE..., Location: Bhubaneswar, Experience: 1 to 3 Yrs, Positions: 20\n",
      "Job Title: Customer Service Representative, Employer: FAST AND DIRECT SERVICES, Location: Mumbai City, Experience: 0 to 3 Yrs, Positions: 5\n",
      "Job Title: Customer Service Executive, Employer: CONSULTBAE INDIA PRIVATE LIMITED, Location: Bangalore, Experience: 1 to 5 Yrs, Positions: 30\n",
      "Job Title: Business Development  Excutive, Employer: DIGI ENTER., Location: Delhi, Experience: 1 to 2 Yrs, Positions: 99\n",
      "Job Title: Voice Process Executive, Employer: TAGINDIA CONSULTANCY SERVICES PRIVA..., Location: Bangalore, Experience: 0 to 1 Yr, Positions: 4\n",
      "Job Title: Production Manager, Employer: ARYA GOLD, Location: Mumbai City, Experience: 2 to 5 Yrs, Positions: 10\n",
      "Job Title: Opening for HR Recruiter, Employer: Stalwart Management Consulting, Location: Mumbai City, Experience: 1 to 6 Yrs, Positions: 99\n",
      "Job Title: Hiring For Sr Relationship Manager, Employer: RELIANCE NIPPON LIFE INSURANCE COMP..., Location: Indore, Experience: 1 to 6 Yrs, Positions: 20\n",
      "Job Title: Relationship Officer, Employer: Kotak Mahindra Bank Limited, Location: Gurugram+1Delhi, Experience: 4 to 6 Yrs, Positions: 20\n",
      "Job Title: Relationship Manager, Employer: Kotak Mahindra Bank Limited, Location: Delhi, Experience: 4 to 6 Yrs, Positions: 20\n",
      "Job Title: Relationship Manager, Employer: Kotak Mahindra Bank Limited, Location: Delhi, Experience: 4 to 6 Yrs, Positions: 21\n",
      "Job Title: Relationship Manager-Corporate Salary, Employer: Kotak Mahindra Bank Limited, Location: Mumbai City, Experience: 1 to 6 Yrs, Positions: 10\n",
      "Job Title: Content Writer ( English) Full Time- Noida- Walk-In, Employer: Anolytics, Location: Noida, Experience: 0 to 3 Yrs, Positions: 10\n",
      "Job Title: Telecaller, Employer: SHRADHA LALITCHANDRA DAUND Hiring F..., Location: Panvel, Experience: 1 to 6 Yrs, Positions: 25\n",
      "Job Title: Walk-In Interview Relationship Manager - Bokaro Steel C ..., Employer: Kotak Mahindra Bank Limited, Location: Bokaro, Experience: 1 to 6 Yrs, Positions: 99\n",
      "Job Title: Walk-In Interview Acquisition Manager (AAM/PAM) - Bokar ..., Employer: Kotak Mahindra Bank Limited, Location: Bokaro, Experience: 0 to 4 Yrs, Positions: 50\n",
      "Job Title: Customer Service Executive, Employer: Square Business Services Pvt. Ltd., Location: Hyderabad, Experience: 0 to 1 Yr, Positions: 50\n",
      "Job Title: Telecaller, Employer: visionary outsourcing services Hiri..., Location: All India, Experience: 0 to 3 Yrs, Positions: 99\n",
      "Job Title: International Non Voice Process - Diversity Focused, Employer: Intouch CX, Location: Hyderabad, Experience: 0 to 2 Yrs, Positions: 50\n",
      "Job Title: Medical Transcriptionist (Immediate Joiners), Employer: Intouch CX, Location: All India, Experience: 2 to 4 Yrs, Positions: 16\n",
      "Job Title: Voice Process ( Domestic), Employer: M.A.R.S Business Solutions, Location: Hyderabad+1Pune, Experience: 0 to 3 Yrs, Positions: 99\n",
      "Job Title: Non It Recruiters - Bulk Hiring Mumbai, Employer: AASAANJOBS PRIVATE LIMITED Hiring F..., Location: Mumbai City, Experience: 2 to 5 Yrs, Positions: 10\n",
      "Job Title: Java Back-end Developers, Employer: Sunil Kumar Hiring For SKS, Location: Bangalore+4Chennai, Hyderabad, Gurugram, Delhi, Experience: 2 to 7 Yrs, Positions: 10\n",
      "Job Title: Senior Agency Manager, Employer: RELIANCE NIPPON LIFE INSURANCE COMP..., Location: Noida+3Ghaziabad, Gurugram, Delhi, Experience: 1 to 6 Yrs, Positions: 5\n",
      "Job Title: Customer Service Executive, Employer: Epicenter Technologies Private Limi..., Location: Mumbai City+2Mira Bhayandar, Vasai, Experience: 0 Yrs, Positions: 20\n",
      "Job Title: Customer Support - Voice, Employer: Wroots Global Private Limited, Location: Bangalore, Experience: 0 to 4 Yrs, Positions: 32\n",
      "Job Title: Walkin for HR Executive ,Client Coordinator  - PERSONAL ..., Employer: PERSONAL NETWORK., Location: Bangalore, Experience: 0 to 3 Yrs, Positions: 40\n",
      "Job Title: Data Entry Operator, Employer: RECKON DATA SOLUTIONS LLP, Location: Pune, Experience: 0 to 1 Yr, Positions: 2\n",
      "Job Title: Hr Recruiter, Employer: BHARTI HR CLEANER WALA  ZEEVIKA JOB..., Location: Lucknow, Experience: 0 to 2 Yrs, Positions: 20\n",
      "Job Title: Hiring for customer support associate, Employer: STRYDE CONSULTING SERVICES, Location: Hyderabad, Experience: 0 Yrs, Positions: 15\n",
      "Job Title: FEMALE OFFICE ASSISTANT, Employer: BHATIA EMPLOYMENT PRIVATE LIMITED, Location: Mumbai City, Experience: 0 to 1 Yr, Positions: 50\n",
      "Job Title: Acquisition Manager, Employer: Kotak Mahindra Bank Limited, Location: Gurugram, Experience: 1 to 3 Yrs, Positions: 21\n",
      "Job Title: Relationship Manager, Employer: Kotak Mahindra Bank Limited, Location: Delhi, Experience: 4 to 9 Yrs, Positions: 99\n",
      "Job Title: Customer Support Representative, Employer: Hucon Solutions India Pvt.Ltd., Location: Hyderabad, Experience: 0 to 4 Yrs, Positions: 50\n",
      "Job Title: Sales officer,, Employer: AVS MANPOWER CONSULTANCY PRIVATE LI..., Location: All India, Experience: 1 to 6 Yrs, Positions: 50\n",
      "Job Title: Hr Recruiter, Employer: The Perfect Recruit, Location: Mumbai City+1Mira Bhayandar, Experience: 0 to 2 Yrs, Positions: 20\n",
      "Job Title: International Voice Process, Employer: Intouch CX, Location: Hyderabad, Experience: 1 to 4 Yrs, Positions: 99\n",
      "Job Title: Customer Service Associate, Employer: Intouch CX, Location: Hyderabad, Experience: 1 to 4 Yrs, Positions: 5\n",
      "Job Title: Mega Hiring For Customer Care Executive, Employer: J D MAN POWER SUPPLY, Location: Mumbai City, Experience: 0 to 2 Yrs, Positions: 43\n",
      "Job Title: Senior Relationships Manager, Employer: RELIANCE NIPPON LIFE INSURANCE COMP..., Location: Pune, Experience: 1 to 3 Yrs, Positions: 4\n",
      "Job Title: Talent Acquisition Executive, Employer: Transformplus, Location: Jaipur, Experience: 0 to 1 Yr, Positions: 40\n",
      "Job Title: Assistant Sales Manager in Surat, Employer: TEKPILLAR, Location: Surat, Experience: 1 to 5 Yrs, Positions: 80\n",
      "Job Title: Senior Payroll Associate, Employer: OSOURCE GLOBAL PRIVATE LIMITED, Location: Navi Mumbai, Experience: 1 to 6 Yrs, Positions: 50\n",
      "Job Title: SPOT Offers - HR Recruiter Positions, Employer: WATERLEAF CONSULTANTS (P) LTD., Location: Hyderabad, Experience: 0 Yrs, Positions: 50\n",
      "Job Title: Customer Service Representative, Employer: Tricolour Manpower Solutions LLP, Location: Hyderabad, Experience: 0 to 1 Yr, Positions: 25\n",
      "Job Title: Home Loan Executive, Employer: iAaptha Techno Solutions LLP, Location: Chennai, Experience: 0 to 2 Yrs, Positions: 50\n",
      "Job Title: Customer Service Executive, Employer: Square BPO Services Pvt Ltd, Location: Hyderabad, Experience: 0 to 3 Yrs, Positions: 50\n",
      "Job Title: Sales Manager, Employer: Story Webnet Services., Location: All India, Experience: 0 to 3 Yrs, Positions: 50\n",
      "Job Title: Associate Sales Consultant, Employer: Policy Bazaar Insurance Brokers Pri..., Location: Mumbai City, Experience: 1 to 3 Yrs, Positions: 50\n",
      "Job Title: Travel Executive, Employer: Sharda IT Services, Location: Noida+1Gurugram, Experience: 1 to 2 Yrs, Positions: 50\n",
      "Job Title: Telecaller (Real estate), Employer: Sharda IT Services, Location: Gurugram, Experience: 1 Yrs, Positions: 50\n",
      "Job Title: Telecaller (Telugu), Employer: Sharda IT Services, Location: Noida, Experience: 1 Yrs, Positions: 20\n",
      "Job Title: Sales Executive (Domestic), Employer: Sharda IT Services, Location: Noida+1Gurugram, Experience: 1 Yrs, Positions: 49\n",
      "Job Title: Collection Executive (International), Employer: Sharda IT Services, Location: Noida, Experience: 1 to 2 Yrs, Positions: 50\n",
      "Job Title: International Sales Executive, Employer: Sharda IT Services, Location: Noida+2Gurugram, Delhi, Experience: 1 to 2 Yrs, Positions: 99\n",
      "Job Title: Technical Sales Executive, Employer: Sharda IT Services, Location: Noida+1Delhi, Experience: 1 Yrs, Positions: 3\n",
      "Job Title: Agency Manager- On Role Opportunity, Employer: RELIANCE NIPPON LIFE INSURANCE COMP..., Location: Vijayawada, Experience: 1 to 6 Yrs, Positions: 20\n",
      "Job Title: Tele Caller, Employer: Sharda IT Services, Location: Noida+2Gurugram, Delhi, Experience: 1 to 2 Yrs, Positions: 50\n",
      "Job Title: HIRING FOR SENIOR RELATIONSHIP MANAGER AT RNLIC, Employer: RELIANCE NIPPON LIFE INSURANCE COMP..., Location: Mumbai City, Experience: 1 to 6 Yrs, Positions: 50\n",
      "Job Title: Civil Engineer, Employer: Uniconsys Private Limited, Location: Chennai, Experience: 0 to 2 Yrs, Positions: 50\n",
      "Job Title: International Travel Executive, Employer: Sharda IT Services, Location: Gurugram+1Delhi, Experience: 1 to 2 Yrs, Positions: 20\n",
      "Job Title: Relationship Manager, Employer: RELIANCE NIPPON LIFE INSURANCE COMP..., Location: Chennai, Experience: 1 to 6 Yrs, Positions: 50\n",
      "Job Title: Telesales Executive, Employer: Sharda IT Services, Location: Noida+2Gurugram, Delhi, Experience: 0 to 1 Yr, Positions: 50\n",
      "Job Title: Customer Care Executive, Employer: Sharda IT Services, Location: Gurugram, Experience: 0 to 1 Yr, Positions: 50\n",
      "Job Title: Telugu Telecaller, Employer: Sharda IT Services, Location: Noida, Experience: 1 to 2 Yrs, Positions: 50\n",
      "Job Title: Technical Sales Executive, Employer: Sharda IT Services, Location: Noida+2Gurugram, Delhi, Experience: 1 to 2 Yrs, Positions: 50\n",
      "Job Title: Sales Executive (International), Employer: Sharda IT Services, Location: Noida+2Gurugram, Delhi, Experience: 1 to 2 Yrs, Positions: 3\n",
      "Job Title: Customer Service Executive, Employer: Sharda IT Services, Location: Gurugram, Experience: 0 to 1 Yr, Positions: 3\n",
      "Job Title: Telesales Executive (DomesticBPO), Employer: Sharda IT Services, Location: Noida+1Gurugram, Experience: 1 to 2 Yrs, Positions: 3\n",
      "Job Title: Telecalling Executive (Female), Employer: Sharda IT Services, Location: Gurugram, Experience: 1 to 2 Yrs, Positions: 20\n",
      "Job Title: Ppc Executive(Nut Bolts), Employer: AIM JOBS HR SERVICE Hiring For Limi..., Location: Ludhiana, Experience: 2 to 6 Yrs, Positions: 50\n",
      "Job Title: Sales Coordinator, Employer: Adroitt Medisys Solutions, Location: Bangalore, Experience: 1 to 4 Yrs, Positions: 50\n",
      "Job Title: Sales Coordinator, Employer: Adroitt Medisys Solutions, Location: Bangalore, Experience: 1 to 4 Yrs, Positions: 50\n",
      "Job Title: US Auto Sales Executive, Employer: Sharda IT Services, Location: Noida, Experience: 1 Yrs, Positions: 50\n",
      "Job Title: Sales Executive for International BPO, Employer: Sharda IT Services, Location: Noida+2Gurugram, Delhi, Experience: 1 Yrs, Positions: 20\n",
      "Job Title: Travel Executive, Employer: Sharda IT Services, Location: Noida+2Gurugram, Delhi, Experience: 1 Yrs, Positions: 0\n",
      "Job Title: Sales Executive for Domestic BPO, Employer: Sharda IT Services, Location: Noida+2Gurugram, Delhi, Experience: 0 to 1 Yr, Positions: 0\n",
      "Job Title: Telemarketing Executive, Employer: Sharda IT Services, Location: Noida+2Gurugram, Delhi, Experience: 0 to 1 Yr, Positions: 0\n",
      "Job Title: Travel Executive(Holiday Package), Employer: Sharda IT Services, Location: Gurugram, Experience: 1 Yrs, Positions: 0\n"
     ]
    }
   ],
   "source": [
    "import requests\n",
    "from bs4 import BeautifulSoup\n",
    "import pandas as pd\n",
    "import re\n",
    "# import sqlite3\n",
    "from sqlalchemy import create_engine, Column, Integer, String\n",
    "from sqlalchemy.ext.declarative import declarative_base\n",
    "from sqlalchemy.orm import sessionmaker\n",
    "\n",
    "# Database setup using SQLAlchemy with SQLite\n",
    "DATABASE_URL = 'sqlite:///job.db'  # SQLite database\n",
    "\n",
    "engine = create_engine(DATABASE_URL)\n",
    "Session = sessionmaker(bind=engine)\n",
    "session = Session()\n",
    "Base = declarative_base()\n",
    "\n",
    "class Job(Base):\n",
    "    __tablename__ = 'job'\n",
    "    id = Column(Integer, primary_key=True)\n",
    "    job_title = Column(String)\n",
    "    employer = Column(String)\n",
    "    job_location = Column(String)\n",
    "    experience = Column(String)\n",
    "    positions = Column(Integer)\n",
    "\n",
    "# Create the table\n",
    "Base.metadata.create_all(engine)\n",
    "\n",
    "# Function to fetch and store data\n",
    "def fetch_and_store_data():\n",
    "    TITLES = []\n",
    "    COMPANIES = []\n",
    "    LOCATIONS = []\n",
    "    EXPERIENCE = []\n",
    "    VACANCIES = []\n",
    "\n",
    "    Range = range(1, 6)\n",
    "    for i in Range:\n",
    "        link = f'https://www.shine.com/job-search/jobs-{i}?job_type=2&top_companies_boost=true&sort=1'\n",
    "        response = requests.get(link)\n",
    "\n",
    "        if response.status_code == 200:\n",
    "            soup = BeautifulSoup(response.content, 'html.parser')\n",
    "\n",
    "            # Fetching job titles\n",
    "            req = soup.select('strong.jobCard_pReplaceH2__xWmHg h2 a')\n",
    "            titles = [r.text for r in req]\n",
    "            TITLES.extend(titles)\n",
    "            \n",
    "            # Fetching company names\n",
    "            orgs = soup.find_all('div', class_='jobCard_jobCard_cName__mYnow')\n",
    "            companies = [o.text.strip() for o in orgs]\n",
    "            COMPANIES.extend(companies)\n",
    "            \n",
    "            # Fetching job locations\n",
    "            loc = soup.find_all('div', class_='jobCard_jobCard_lists_item__YxRkV jobCard_locationIcon__zrWt2')\n",
    "            locations = [l.text.strip() for l in loc]\n",
    "            LOCATIONS.extend(locations)\n",
    "            \n",
    "            # Fetching experience\n",
    "            exp = soup.find_all('div', class_='jobCard_jobCard_lists_item__YxRkV jobCard_jobIcon__3FB1t')\n",
    "            experience = [e.text.strip() for e in exp]\n",
    "            EXPERIENCE.extend(experience)\n",
    "            \n",
    "            # Fetching number of positions\n",
    "            vac = soup.find_all('div', class_='jobCard_jobCard_lists_item__YxRkV jobCard_positionIcon__2hhkm')\n",
    "            vacancies = [int(re.findall(r'\\d+', v.text)[0]) if re.findall(r'\\d+', v.text) else 0 for v in vac]\n",
    "            VACANCIES.extend(vacancies)\n",
    "        \n",
    "        else:\n",
    "            print(f'Invalid Response for page {i}')\n",
    "\n",
    "    # Aligning the lengths of all lists by filling missing positions with 0\n",
    "    max_length = max(len(TITLES), len(COMPANIES), len(LOCATIONS), len(EXPERIENCE), len(VACANCIES))\n",
    "\n",
    "    def extend_list(lst, target_length, fill_value=0):\n",
    "        return lst + [fill_value] * (target_length - len(lst))\n",
    "\n",
    "    TITLES = extend_list(TITLES, max_length)\n",
    "    COMPANIES = extend_list(COMPANIES, max_length)\n",
    "    LOCATIONS = extend_list(LOCATIONS, max_length)\n",
    "    EXPERIENCE = extend_list(EXPERIENCE, max_length)\n",
    "    VACANCIES = extend_list(VACANCIES, max_length)\n",
    "\n",
    "    # Creating the DataFrame\n",
    "    df = pd.DataFrame({\n",
    "        'Job Title': TITLES, \n",
    "        'Employer': COMPANIES,\n",
    "        'Job Location': LOCATIONS, \n",
    "        'Experience': EXPERIENCE, \n",
    "        'Positions': VACANCIES\n",
    "    })\n",
    "\n",
    "    # Insert data into the database\n",
    "    for index, row in df.iterrows():\n",
    "        job = Job(\n",
    "            job_title=row['Job Title'],\n",
    "            employer=row['Employer'],\n",
    "            job_location=row['Job Location'],\n",
    "            experience=row['Experience'],\n",
    "            positions=row['Positions']\n",
    "        )\n",
    "        session.add(job)\n",
    "    session.commit()\n",
    "\n",
    "    print(f'We have managed to fetch {len(df)} job postings while scraping {len(Range)} pages.')\n",
    "\n",
    "# Fetch and store data\n",
    "fetch_and_store_data()\n",
    "\n",
    "# Query the database to verify\n",
    "def fetch_jobs_from_db():\n",
    "    jobs = session.query(Job).all()\n",
    "    for job in jobs:\n",
    "        print(f\"Job Title: {job.job_title}, Employer: {job.employer}, Location: {job.job_location}, Experience: {job.experience}, Positions: {job.positions}\")\n",
    "\n",
    "fetch_jobs_from_db()"
   ]
  },
  {
   "cell_type": "code",
   "execution_count": 83,
   "id": "f1fe347a",
   "metadata": {},
   "outputs": [
    {
     "name": "stdout",
     "output_type": "stream",
     "text": [
      "Job Title: Customer Service Executive, Employer: CONSULTBAE INDIA PRIVATE LIMITED, Location: Bangalore, Experience: 1 to 5 Yrs, Positions: 30\n",
      "Job Title: Voice Process Executive, Employer: TAGINDIA CONSULTANCY SERVICES PRIVA..., Location: Bangalore, Experience: 0 to 1 Yr, Positions: 4\n",
      "Job Title: Java Back-end Developers, Employer: Sunil Kumar Hiring For SKS, Location: Bangalore+4Chennai, Hyderabad, Gurugram, Delhi, Experience: 2 to 7 Yrs, Positions: 10\n",
      "Job Title: Customer Support - Voice, Employer: Wroots Global Private Limited, Location: Bangalore, Experience: 0 to 4 Yrs, Positions: 32\n",
      "Job Title: Walkin for HR Executive ,Client Coordinator  - PERSONAL ..., Employer: PERSONAL NETWORK., Location: Bangalore, Experience: 0 to 3 Yrs, Positions: 40\n",
      "Job Title: Sales Coordinator, Employer: Adroitt Medisys Solutions, Location: Bangalore, Experience: 1 to 4 Yrs, Positions: 50\n",
      "Job Title: Sales Coordinator, Employer: Adroitt Medisys Solutions, Location: Bangalore, Experience: 1 to 4 Yrs, Positions: 50\n"
     ]
    }
   ],
   "source": [
    "def fetch_jobs_in_bangalore():\n",
    "    bangalore_jobs = session.query(Job).filter(Job.job_location.ilike('%Bangalore%')).all()\n",
    "    for job in bangalore_jobs:\n",
    "        print(f\"Job Title: {job.job_title}, Employer: {job.employer}, Location: {job.job_location}, Experience: {job.experience}, Positions: {job.positions}\")\n",
    "\n",
    "# Fetch and print jobs in Bangalore\n",
    "fetch_jobs_in_bangalore()"
   ]
  },
  {
   "cell_type": "code",
   "execution_count": null,
   "id": "dc899196",
   "metadata": {},
   "outputs": [],
   "source": []
  }
 ],
 "metadata": {
  "kernelspec": {
   "display_name": "Python 3",
   "language": "python",
   "name": "python3"
  },
  "language_info": {
   "codemirror_mode": {
    "name": "ipython",
    "version": 3
   },
   "file_extension": ".py",
   "mimetype": "text/x-python",
   "name": "python",
   "nbconvert_exporter": "python",
   "pygments_lexer": "ipython3",
   "version": "3.12.0"
  },
  "papermill": {
   "default_parameters": {},
   "duration": 22.132711,
   "end_time": "2023-09-24T06:02:40.510686",
   "environment_variables": {},
   "exception": null,
   "input_path": "__notebook__.ipynb",
   "output_path": "__notebook__.ipynb",
   "parameters": {},
   "start_time": "2023-09-24T06:02:18.377975",
   "version": "2.3.4"
  }
 },
 "nbformat": 4,
 "nbformat_minor": 5
}
